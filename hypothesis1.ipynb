{
 "cells": [
  {
   "cell_type": "markdown",
   "metadata": {},
   "source": [
    "# Question\n",
    "Why are some YouTube channels absent from the Twitter graph?\n",
    "# Hypothesis\n",
    "By design, the Twitter graph focus on political tweets (tweets that mention Bolsonaro, Guedes, Moro, and Lula). YouTube favors recommendations outside the political realm.\n",
    "# Test"
   ]
  },
  {
   "cell_type": "markdown",
   "metadata": {},
   "source": [
    "Retrieve data from database"
   ]
  },
  {
   "cell_type": "code",
   "execution_count": 2,
   "metadata": {},
   "outputs": [
    {
     "data": {
      "text/html": [
       "61400"
      ],
      "text/latex": [
       "61400"
      ],
      "text/markdown": [
       "61400"
      ],
      "text/plain": [
       "[1] 61400"
      ]
     },
     "metadata": {},
     "output_type": "display_data"
    }
   ],
   "source": [
    "library(RSQLite)\n",
    "con <- dbConnect(drv=RSQLite::SQLite(), dbname=\".//youtube_recommendations.sqlite\")\n",
    "recommendation <- dbGetQuery(conn=con, statement=\"SELECT * FROM recommendation\")\n",
    "dbDisconnect(conn=con)\n",
    "nrow(recommendation)"
   ]
  },
  {
   "cell_type": "markdown",
   "metadata": {},
   "source": [
    "Remove rows where channel_id is NA/NULL"
   ]
  },
  {
   "cell_type": "code",
   "execution_count": 3,
   "metadata": {},
   "outputs": [
    {
     "data": {
      "text/html": [
       "61295"
      ],
      "text/latex": [
       "61295"
      ],
      "text/markdown": [
       "61295"
      ],
      "text/plain": [
       "[1] 61295"
      ]
     },
     "metadata": {},
     "output_type": "display_data"
    }
   ],
   "source": [
    "recommendation <- recommendation[complete.cases(recommendation[, c('seed_channel_id','recommended_channel_id')]), ]\n",
    "nrow(recommendation)"
   ]
  },
  {
   "cell_type": "markdown",
   "metadata": {},
   "source": [
    "Remove rows where seed_political_leaning is NA/NULL"
   ]
  },
  {
   "cell_type": "code",
   "execution_count": 4,
   "metadata": {},
   "outputs": [
    {
     "data": {
      "text/html": [
       "61033"
      ],
      "text/latex": [
       "61033"
      ],
      "text/markdown": [
       "61033"
      ],
      "text/plain": [
       "[1] 61033"
      ]
     },
     "metadata": {},
     "output_type": "display_data"
    }
   ],
   "source": [
    "recommendation <- recommendation[complete.cases(recommendation[, c('seed_political_leaning')]), ]\n",
    "nrow(recommendation)"
   ]
  },
  {
   "cell_type": "markdown",
   "metadata": {},
   "source": [
    "Create a new column `twitter_graph` that tells if the YouTube channel is present in the Twitter graph"
   ]
  },
  {
   "cell_type": "code",
   "execution_count": 5,
   "metadata": {},
   "outputs": [
    {
     "data": {
      "text/plain": [
       "\n",
       " ABSENT PRESENT \n",
       "  12051   48982 "
      ]
     },
     "metadata": {},
     "output_type": "display_data"
    },
    {
     "data": {
      "text/plain": [
       "\n",
       " ABSENT PRESENT \n",
       "  0.197   0.803 "
      ]
     },
     "metadata": {},
     "output_type": "display_data"
    },
    {
     "data": {
      "text/html": [
       "<table>\n",
       "<caption>A matrix: 2 × 1 of type dbl</caption>\n",
       "<thead>\n",
       "\t<tr><th></th><th scope=col>PRESENT</th></tr>\n",
       "</thead>\n",
       "<tbody>\n",
       "\t<tr><th scope=row>ABSENT</th><td>0</td></tr>\n",
       "\t<tr><th scope=row>PRESENT</th><td>1</td></tr>\n",
       "</tbody>\n",
       "</table>\n"
      ],
      "text/latex": [
       "A matrix: 2 × 1 of type dbl\n",
       "\\begin{tabular}{r|l}\n",
       "  & PRESENT\\\\\n",
       "\\hline\n",
       "\tABSENT & 0\\\\\n",
       "\tPRESENT & 1\\\\\n",
       "\\end{tabular}\n"
      ],
      "text/markdown": [
       "\n",
       "A matrix: 2 × 1 of type dbl\n",
       "\n",
       "| <!--/--> | PRESENT |\n",
       "|---|---|\n",
       "| ABSENT | 0 |\n",
       "| PRESENT | 1 |\n",
       "\n"
      ],
      "text/plain": [
       "        PRESENT\n",
       "ABSENT  0      \n",
       "PRESENT 1      "
      ]
     },
     "metadata": {},
     "output_type": "display_data"
    }
   ],
   "source": [
    "recommendation[['twitter_graph']] <- ifelse(is.na(recommendation$recommended_political_leaning), 'ABSENT', 'PRESENT')\n",
    "recommendation[['twitter_graph']] <- as.factor(recommendation[['twitter_graph']])\n",
    "table(recommendation[['twitter_graph']])\n",
    "round(table(recommendation[['twitter_graph']])/nrow(recommendation),3)\n",
    "contrasts(recommendation$twitter_graph)"
   ]
  },
  {
   "cell_type": "markdown",
   "metadata": {},
   "source": [
    "**20% of the recommendations are absent in the Twitter graph**.\n",
    "\n",
    "**Therefore, the minimum expected accuracy is very close to 80% (based on the prediction that all YouTube channels are PRESENT in the Twitter graph).**\n",
    "\n",
    "Convert `char` columns to `factor`"
   ]
  },
  {
   "cell_type": "code",
   "execution_count": 6,
   "metadata": {},
   "outputs": [],
   "source": [
    "recommendation[['seed_political_leaning']] = as.factor(recommendation[['seed_political_leaning']])\n",
    "recommendation[['recommended_political_leaning']] = as.factor(recommendation[['recommended_political_leaning']])\n",
    "recommendation[['category_recommended']] <- as.factor(recommendation[['category_recommended']])"
   ]
  },
  {
   "cell_type": "code",
   "execution_count": 7,
   "metadata": {},
   "outputs": [
    {
     "data": {
      "text/plain": [
       "\n",
       "     Autos & Vehicles                Comedy             Education \n",
       "                  122                  1071                  1589 \n",
       "        Entertainment      Film & Animation                Gaming \n",
       "                10989                   559                   164 \n",
       "        Howto & Style                Movies                 Music \n",
       "                   77                     1                   963 \n",
       "      News & Politics Nonprofits & Activism        People & Blogs \n",
       "                30329                   458                 12382 \n",
       "       Pets & Animals  Science & Technology                Sports \n",
       "                  519                   856                   792 \n",
       "      Travel & Events \n",
       "                  162 "
      ]
     },
     "metadata": {},
     "output_type": "display_data"
    }
   ],
   "source": [
    "table(recommendation[['category_recommended']])"
   ]
  },
  {
   "cell_type": "markdown",
   "metadata": {},
   "source": [
    "There is only one recommendation that belongs to the category `Movie`. It is worth excluding it because it does not improve the model and becomes a hindrance for the regression (for instance, when it is absent from the training set but present in the test set)."
   ]
  },
  {
   "cell_type": "code",
   "execution_count": 8,
   "metadata": {},
   "outputs": [
    {
     "data": {
      "text/html": [
       "61032"
      ],
      "text/latex": [
       "61032"
      ],
      "text/markdown": [
       "61032"
      ],
      "text/plain": [
       "[1] 61032"
      ]
     },
     "metadata": {},
     "output_type": "display_data"
    }
   ],
   "source": [
    "recommendation <- recommendation[recommendation$category_recommended != \"Movies\",]\n",
    "nrow(recommendation)"
   ]
  },
  {
   "cell_type": "markdown",
   "metadata": {},
   "source": [
    "Create train and test sets"
   ]
  },
  {
   "cell_type": "code",
   "execution_count": 9,
   "metadata": {},
   "outputs": [],
   "source": [
    "set.seed(2)\n",
    "train <- rep(TRUE, nrow(recommendation))\n",
    "train[sample.int(length(train), 0.3*nrow(recommendation))] <- FALSE\n",
    "test <- (!train)"
   ]
  },
  {
   "cell_type": "markdown",
   "metadata": {},
   "source": [
    "# twitter_graph ~ category_recommended (with intercept)"
   ]
  },
  {
   "cell_type": "markdown",
   "metadata": {},
   "source": [
    "Let's see if we can increase the accuracy by adding the category of the recommendation."
   ]
  },
  {
   "cell_type": "code",
   "execution_count": 10,
   "metadata": {},
   "outputs": [
    {
     "data": {
      "text/plain": [
       "\n",
       "Call:\n",
       "glm(formula = twitter_graph ~ category_recommended, family = binomial, \n",
       "    data = recommendation[train, ])\n",
       "\n",
       "Deviance Residuals: \n",
       "    Min       1Q   Median       3Q      Max  \n",
       "-2.3780   0.3492   0.3492   0.7607   2.8310  \n",
       "\n",
       "Coefficients:\n",
       "                                          Estimate Std. Error z value Pr(>|z|)\n",
       "(Intercept)                                -3.7955     0.7150  -5.308 1.11e-07\n",
       "category_recommendedComedy                  4.6806     0.7196   6.505 7.78e-11\n",
       "category_recommendedEducation               3.6688     0.7174   5.114 3.16e-07\n",
       "category_recommendedEntertainment           4.7180     0.7154   6.595 4.26e-11\n",
       "category_recommendedFilm & Animation        4.9716     0.7250   6.858 7.00e-12\n",
       "category_recommendedGaming                 -0.1842     1.0102  -0.182 0.855317\n",
       "category_recommendedHowto & Style           2.0278     0.8237   2.462 0.013820\n",
       "category_recommendedMusic                   2.7695     0.7204   3.845 0.000121\n",
       "category_recommendedNews & Politics         6.5620     0.7156   9.170  < 2e-16\n",
       "category_recommendedNonprofits & Activism   3.8502     0.7234   5.322 1.03e-07\n",
       "category_recommendedPeople & Blogs          4.8875     0.7154   6.832 8.39e-12\n",
       "category_recommendedPets & Animals          5.8199     0.7336   7.933 2.13e-15\n",
       "category_recommendedScience & Technology    2.9105     0.7206   4.039 5.37e-05\n",
       "category_recommendedSports                  2.2892     0.7233   3.165 0.001551\n",
       "category_recommendedTravel & Events        -0.1935     1.0101  -0.192 0.848090\n",
       "                                             \n",
       "(Intercept)                               ***\n",
       "category_recommendedComedy                ***\n",
       "category_recommendedEducation             ***\n",
       "category_recommendedEntertainment         ***\n",
       "category_recommendedFilm & Animation      ***\n",
       "category_recommendedGaming                   \n",
       "category_recommendedHowto & Style         *  \n",
       "category_recommendedMusic                 ***\n",
       "category_recommendedNews & Politics       ***\n",
       "category_recommendedNonprofits & Activism ***\n",
       "category_recommendedPeople & Blogs        ***\n",
       "category_recommendedPets & Animals        ***\n",
       "category_recommendedScience & Technology  ***\n",
       "category_recommendedSports                ** \n",
       "category_recommendedTravel & Events          \n",
       "---\n",
       "Signif. codes:  0 '***' 0.001 '**' 0.01 '*' 0.05 '.' 0.1 ' ' 1\n",
       "\n",
       "(Dispersion parameter for binomial family taken to be 1)\n",
       "\n",
       "    Null deviance: 42502  on 42722  degrees of freedom\n",
       "Residual deviance: 34216  on 42708  degrees of freedom\n",
       "AIC: 34246\n",
       "\n",
       "Number of Fisher Scoring iterations: 6\n"
      ]
     },
     "metadata": {},
     "output_type": "display_data"
    }
   ],
   "source": [
    "glm.model <- glm(twitter_graph~category_recommended, data=recommendation[train,], family=binomial)\n",
    "summary(glm.model)"
   ]
  },
  {
   "cell_type": "markdown",
   "metadata": {},
   "source": [
    "**Based on the p-values for most of the categories we can reject the null hypothesis. The category of the recommended videos is useful to predict if a YouTube video's channel will be present in the Twitter graph.**\n",
    "\n",
    "Now let's see how accurate the results are."
   ]
  },
  {
   "cell_type": "markdown",
   "metadata": {},
   "source": [
    "## Training set"
   ]
  },
  {
   "cell_type": "code",
   "execution_count": 11,
   "metadata": {},
   "outputs": [
    {
     "data": {
      "text/plain": [
       "         \n",
       "          ABSENT PRESENT\n",
       "  ABSENT    2325    6128\n",
       "  PRESENT    999   33271"
      ]
     },
     "metadata": {},
     "output_type": "display_data"
    },
    {
     "data": {
      "text/plain": [
       "         \n",
       "          ABSENT PRESENT\n",
       "  ABSENT   0.054   0.143\n",
       "  PRESENT  0.023   0.779"
      ]
     },
     "metadata": {},
     "output_type": "display_data"
    },
    {
     "name": "stdout",
     "output_type": "stream",
     "text": [
      "[1] \"Accuracy:\"\n"
     ]
    },
    {
     "data": {
      "text/html": [
       "0.833181190459471"
      ],
      "text/latex": [
       "0.833181190459471"
      ],
      "text/markdown": [
       "0.833181190459471"
      ],
      "text/plain": [
       "[1] 0.8331812"
      ]
     },
     "metadata": {},
     "output_type": "display_data"
    }
   ],
   "source": [
    "glm.probabilities <- predict(glm.model, recommendation[train,], type=\"response\")\n",
    "recommendation[train, 'predicted'] <- ifelse(glm.probabilities < .5,\n",
    "                                             levels(recommendation$twitter_graph)[1],\n",
    "                                             levels(recommendation$twitter_graph)[2])\n",
    "classification.table <- table(recommendation[train, 'twitter_graph'], recommendation[train,'predicted'])\n",
    "classification.table\n",
    "round(classification.table/nrow(recommendation[train,]),3)\n",
    "print('Accuracy:')\n",
    "sum(diag(classification.table))/sum(classification.table)"
   ]
  },
  {
   "cell_type": "markdown",
   "metadata": {},
   "source": [
    "## Test set"
   ]
  },
  {
   "cell_type": "code",
   "execution_count": 12,
   "metadata": {},
   "outputs": [
    {
     "data": {
      "text/plain": [
       "         \n",
       "          ABSENT PRESENT\n",
       "  ABSENT     973    2624\n",
       "  PRESENT    428   14284"
      ]
     },
     "metadata": {},
     "output_type": "display_data"
    },
    {
     "data": {
      "text/plain": [
       "         \n",
       "          ABSENT PRESENT\n",
       "  ABSENT   0.053   0.143\n",
       "  PRESENT  0.023   0.780"
      ]
     },
     "metadata": {},
     "output_type": "display_data"
    },
    {
     "name": "stdout",
     "output_type": "stream",
     "text": [
      "[1] \"Accuracy:\"\n"
     ]
    },
    {
     "data": {
      "text/html": [
       "0.833306024359605"
      ],
      "text/latex": [
       "0.833306024359605"
      ],
      "text/markdown": [
       "0.833306024359605"
      ],
      "text/plain": [
       "[1] 0.833306"
      ]
     },
     "metadata": {},
     "output_type": "display_data"
    }
   ],
   "source": [
    "glm.probabilities <- predict(glm.model, recommendation[test,], type=\"response\")\n",
    "recommendation[test, 'predicted'] <- ifelse(glm.probabilities < .5,\n",
    "                                            levels(recommendation$twitter_graph)[1],\n",
    "                                            levels(recommendation$twitter_graph)[2])\n",
    "classification.table <- table(recommendation[test, 'twitter_graph'], recommendation[test,'predicted'])\n",
    "classification.table\n",
    "round(classification.table/nrow(recommendation[test,]),3)\n",
    "print('Accuracy:')\n",
    "sum(diag(classification.table))/sum(classification.table)"
   ]
  },
  {
   "cell_type": "markdown",
   "metadata": {},
   "source": [
    "# twitter_graph ~ category_recommended (without intercept)"
   ]
  },
  {
   "cell_type": "markdown",
   "metadata": {},
   "source": [
    "Which YouTube categories are associated to an increase in the odds of a YouTube channel being present in the Twitter graph?\n",
    "\n",
    "To answer that question, we can compare the coefficients of the regression.\n",
    "\n",
    "Since `category_recommended` is a factor, we can remove the intercept in order to:\n",
    "\n",
    "1. make sure that all the categories appear in the `summary` of the regression (including the \"reference\" category)\n",
    "2. make the coefficients comparable between themselves\n",
    "\n",
    "The idea of removing the intercept was based on [this article](https://www.theanalysisfactor.com/the-impact-of-removing-the-constant-from-a-regression-model-the-categorical-case/) about the meaning of a regression without the intercept."
   ]
  },
  {
   "cell_type": "code",
   "execution_count": 13,
   "metadata": {},
   "outputs": [
    {
     "data": {
      "text/plain": [
       "\n",
       "Call:\n",
       "glm(formula = twitter_graph ~ category_recommended - 1, family = binomial, \n",
       "    data = recommendation[train, ])\n",
       "\n",
       "Deviance Residuals: \n",
       "    Min       1Q   Median       3Q      Max  \n",
       "-2.3780   0.3492   0.3492   0.7607   2.8310  \n",
       "\n",
       "Coefficients:\n",
       "                                          Estimate Std. Error z value Pr(>|z|)\n",
       "category_recommendedAutos & Vehicles      -3.79549    0.71499  -5.308 1.11e-07\n",
       "category_recommendedComedy                 0.88511    0.08106  10.919  < 2e-16\n",
       "category_recommendedEducation             -0.12671    0.05941  -2.133   0.0329\n",
       "category_recommendedEntertainment          0.92252    0.02533  36.419  < 2e-16\n",
       "category_recommendedFilm & Animation       1.17612    0.11991   9.808  < 2e-16\n",
       "category_recommendedGaming                -3.97968    0.71361  -5.577 2.45e-08\n",
       "category_recommendedHowto & Style         -1.76766    0.40896  -4.322 1.54e-05\n",
       "category_recommendedMusic                 -1.02596    0.08785 -11.678  < 2e-16\n",
       "category_recommendedNews & Politics        2.76650    0.02909  95.101  < 2e-16\n",
       "category_recommendedNonprofits & Activism  0.05472    0.11030   0.496   0.6198\n",
       "category_recommendedPeople & Blogs         1.09203    0.02472  44.181  < 2e-16\n",
       "category_recommendedPets & Animals         2.02438    0.16418  12.330  < 2e-16\n",
       "category_recommendedScience & Technology  -0.88495    0.08985  -9.849  < 2e-16\n",
       "category_recommendedSports                -1.50625    0.10944 -13.763  < 2e-16\n",
       "category_recommendedTravel & Events       -3.98898    0.71354  -5.590 2.27e-08\n",
       "                                             \n",
       "category_recommendedAutos & Vehicles      ***\n",
       "category_recommendedComedy                ***\n",
       "category_recommendedEducation             *  \n",
       "category_recommendedEntertainment         ***\n",
       "category_recommendedFilm & Animation      ***\n",
       "category_recommendedGaming                ***\n",
       "category_recommendedHowto & Style         ***\n",
       "category_recommendedMusic                 ***\n",
       "category_recommendedNews & Politics       ***\n",
       "category_recommendedNonprofits & Activism    \n",
       "category_recommendedPeople & Blogs        ***\n",
       "category_recommendedPets & Animals        ***\n",
       "category_recommendedScience & Technology  ***\n",
       "category_recommendedSports                ***\n",
       "category_recommendedTravel & Events       ***\n",
       "---\n",
       "Signif. codes:  0 '***' 0.001 '**' 0.01 '*' 0.05 '.' 0.1 ' ' 1\n",
       "\n",
       "(Dispersion parameter for binomial family taken to be 1)\n",
       "\n",
       "    Null deviance: 59227  on 42723  degrees of freedom\n",
       "Residual deviance: 34216  on 42708  degrees of freedom\n",
       "AIC: 34246\n",
       "\n",
       "Number of Fisher Scoring iterations: 6\n"
      ]
     },
     "metadata": {},
     "output_type": "display_data"
    }
   ],
   "source": [
    "glm.model <- glm(twitter_graph~category_recommended-1, data=recommendation[train,], family=binomial)\n",
    "summary(glm.model)"
   ]
  },
  {
   "cell_type": "markdown",
   "metadata": {},
   "source": [
    "## Training set"
   ]
  },
  {
   "cell_type": "code",
   "execution_count": 14,
   "metadata": {},
   "outputs": [
    {
     "data": {
      "text/plain": [
       "         \n",
       "          ABSENT PRESENT\n",
       "  ABSENT    2325    6128\n",
       "  PRESENT    999   33271"
      ]
     },
     "metadata": {},
     "output_type": "display_data"
    },
    {
     "data": {
      "text/plain": [
       "         \n",
       "          ABSENT PRESENT\n",
       "  ABSENT   0.054   0.143\n",
       "  PRESENT  0.023   0.779"
      ]
     },
     "metadata": {},
     "output_type": "display_data"
    },
    {
     "name": "stdout",
     "output_type": "stream",
     "text": [
      "[1] \"Accuracy:\"\n"
     ]
    },
    {
     "data": {
      "text/html": [
       "0.833181190459471"
      ],
      "text/latex": [
       "0.833181190459471"
      ],
      "text/markdown": [
       "0.833181190459471"
      ],
      "text/plain": [
       "[1] 0.8331812"
      ]
     },
     "metadata": {},
     "output_type": "display_data"
    }
   ],
   "source": [
    "glm.probabilities <- predict(glm.model, recommendation[train,], type=\"response\")\n",
    "recommendation[train, 'predicted'] <- ifelse(glm.probabilities < .5,\n",
    "                                             levels(recommendation$twitter_graph)[1],\n",
    "                                             levels(recommendation$twitter_graph)[2])\n",
    "classification.table <- table(recommendation[train, 'twitter_graph'], recommendation[train,'predicted'])\n",
    "classification.table\n",
    "round(classification.table/nrow(recommendation[train,]),3)\n",
    "print('Accuracy:')\n",
    "sum(diag(classification.table))/sum(classification.table)"
   ]
  },
  {
   "cell_type": "markdown",
   "metadata": {},
   "source": [
    "## Test set"
   ]
  },
  {
   "cell_type": "code",
   "execution_count": 15,
   "metadata": {},
   "outputs": [
    {
     "data": {
      "text/plain": [
       "         \n",
       "          ABSENT PRESENT\n",
       "  ABSENT     973    2624\n",
       "  PRESENT    428   14284"
      ]
     },
     "metadata": {},
     "output_type": "display_data"
    },
    {
     "data": {
      "text/plain": [
       "         \n",
       "          ABSENT PRESENT\n",
       "  ABSENT   0.053   0.143\n",
       "  PRESENT  0.023   0.780"
      ]
     },
     "metadata": {},
     "output_type": "display_data"
    },
    {
     "name": "stdout",
     "output_type": "stream",
     "text": [
      "[1] \"Accuracy:\"\n"
     ]
    },
    {
     "data": {
      "text/html": [
       "0.833306024359605"
      ],
      "text/latex": [
       "0.833306024359605"
      ],
      "text/markdown": [
       "0.833306024359605"
      ],
      "text/plain": [
       "[1] 0.833306"
      ]
     },
     "metadata": {},
     "output_type": "display_data"
    }
   ],
   "source": [
    "glm.probabilities <- predict(glm.model, recommendation[test,], type=\"response\")\n",
    "recommendation[test, 'predicted'] <- ifelse(glm.probabilities < .5,\n",
    "                                            levels(recommendation$twitter_graph)[1],\n",
    "                                            levels(recommendation$twitter_graph)[2])\n",
    "classification.table <- table(recommendation[test, 'twitter_graph'], recommendation[test,'predicted'])\n",
    "classification.table\n",
    "round(classification.table/nrow(recommendation[test,]),3)\n",
    "print('Accuracy:')\n",
    "sum(diag(classification.table))/sum(classification.table)"
   ]
  },
  {
   "cell_type": "markdown",
   "metadata": {},
   "source": [
    "## Discussion"
   ]
  },
  {
   "cell_type": "code",
   "execution_count": 16,
   "metadata": {},
   "outputs": [
    {
     "data": {
      "image/png": "[encoded data removed]",
      "text/plain": [
       "plot without title"
      ]
     },
     "metadata": {
      "image/png": {
       "height": 420,
       "width": 420
      }
     },
     "output_type": "display_data"
    }
   ],
   "source": [
    "library(ggplot2)\n",
    "df <- data.frame(name=names(coef(glm.model)), coef=as.numeric(coef(glm.model)))\n",
    "ggplot(data=df, aes(reorder(name, coef),coef)) +\n",
    "geom_col() +\n",
    "theme(axis.text.x=element_text(angle=45,hjust=1))"
   ]
  },
  {
   "cell_type": "markdown",
   "metadata": {},
   "source": [
    "Based on the p-values of the regression without the intercept, with the exception of `Nonprofits & Activism`, all the other categories seem to be significantly associated with predicting an ABSENT or PRESENT YouTube channel.\n",
    "\n",
    "What to do about `Nonprofits & Activism`? Probably nothing based on [this StackExchange thread](https://stats.stackexchange.com/questions/24298/can-i-ignore-coefficients-for-non-significant-levels-of-factors-in-a-linear-mode).\n",
    "\n",
    "These categories are associated with ABSENT channels:\n",
    "- Travel & Events\n",
    "- Gaming\n",
    "- Autos & Vehicles\n",
    "- Howto & Style\n",
    "- Sports\n",
    "- Music\n",
    "- Science & Technology\n",
    "- Education (weaker)\n",
    "\n",
    "And these are associated with channels that are PRESENT in the Twitter graph:\n",
    "- News & Politics\n",
    "- Pets & Animals\n",
    "- Film & Animation\n",
    "- People & Blogs\n",
    "- Entertainment\n",
    "- Comedy\n",
    "\n",
    "The biggest surprise is the association of `Pets & Animals` with PRESENT (therefore, with channels associated with political content). It is important to investigate."
   ]
  },
  {
   "cell_type": "code",
   "execution_count": 17,
   "metadata": {},
   "outputs": [
    {
     "data": {
      "text/html": [
       "<style>\n",
       ".list-inline {list-style: none; margin:0; padding: 0}\n",
       ".list-inline>li {display: inline-block}\n",
       ".list-inline>li:not(:last-child)::after {content: \"\\00b7\"; padding: 0 .5ex}\n",
       "</style>\n",
       "<ol class=list-inline><li>'UCxaJkVoVnpiFhqIO5FQAt4g'</li><li>'UC5ZXYxeWlROKbL7JziJ0bIQ'</li><li>'UCDpw6-Kl_ltcf0AKBA1oKsA'</li><li>'UCYCVTQfkzIRBOAJfLu980HQ'</li><li>'UCToLRq7_OSq17-Arj-bXJmQ'</li><li>'UCFvREgvwPtIWMlvkvpM5Egw'</li><li>'UCiSqmhviFRq35mG_7sYkoIw'</li><li>'UCJvgqQHu7rbCi-9tiAJ1hyQ'</li><li>'UCy3eOZh9n5P3aWWKXmrq6yg'</li></ol>\n"
      ],
      "text/latex": [
       "\\begin{enumerate*}\n",
       "\\item 'UCxaJkVoVnpiFhqIO5FQAt4g'\n",
       "\\item 'UC5ZXYxeWlROKbL7JziJ0bIQ'\n",
       "\\item 'UCDpw6-Kl\\_ltcf0AKBA1oKsA'\n",
       "\\item 'UCYCVTQfkzIRBOAJfLu980HQ'\n",
       "\\item 'UCToLRq7\\_OSq17-Arj-bXJmQ'\n",
       "\\item 'UCFvREgvwPtIWMlvkvpM5Egw'\n",
       "\\item 'UCiSqmhviFRq35mG\\_7sYkoIw'\n",
       "\\item 'UCJvgqQHu7rbCi-9tiAJ1hyQ'\n",
       "\\item 'UCy3eOZh9n5P3aWWKXmrq6yg'\n",
       "\\end{enumerate*}\n"
      ],
      "text/markdown": [
       "1. 'UCxaJkVoVnpiFhqIO5FQAt4g'\n",
       "2. 'UC5ZXYxeWlROKbL7JziJ0bIQ'\n",
       "3. 'UCDpw6-Kl_ltcf0AKBA1oKsA'\n",
       "4. 'UCYCVTQfkzIRBOAJfLu980HQ'\n",
       "5. 'UCToLRq7_OSq17-Arj-bXJmQ'\n",
       "6. 'UCFvREgvwPtIWMlvkvpM5Egw'\n",
       "7. 'UCiSqmhviFRq35mG_7sYkoIw'\n",
       "8. 'UCJvgqQHu7rbCi-9tiAJ1hyQ'\n",
       "9. 'UCy3eOZh9n5P3aWWKXmrq6yg'\n",
       "\n",
       "\n"
      ],
      "text/plain": [
       "[1] \"UCxaJkVoVnpiFhqIO5FQAt4g\" \"UC5ZXYxeWlROKbL7JziJ0bIQ\"\n",
       "[3] \"UCDpw6-Kl_ltcf0AKBA1oKsA\" \"UCYCVTQfkzIRBOAJfLu980HQ\"\n",
       "[5] \"UCToLRq7_OSq17-Arj-bXJmQ\" \"UCFvREgvwPtIWMlvkvpM5Egw\"\n",
       "[7] \"UCiSqmhviFRq35mG_7sYkoIw\" \"UCJvgqQHu7rbCi-9tiAJ1hyQ\"\n",
       "[9] \"UCy3eOZh9n5P3aWWKXmrq6yg\""
      ]
     },
     "metadata": {},
     "output_type": "display_data"
    },
    {
     "data": {
      "text/html": [
       "9"
      ],
      "text/latex": [
       "9"
      ],
      "text/markdown": [
       "9"
      ],
      "text/plain": [
       "[1] 9"
      ]
     },
     "metadata": {},
     "output_type": "display_data"
    }
   ],
   "source": [
    "unique(recommendation[recommendation$category_recommended == 'Pets & Animals' & recommendation$twitter_graph == 'PRESENT', 'recommended_channel_id'])\n",
    "length(unique(recommendation[recommendation$category_recommended == 'Pets & Animals' & recommendation$twitter_graph == 'PRESENT', 'recommended_channel_id']))"
   ]
  },
  {
   "cell_type": "code",
   "execution_count": 18,
   "metadata": {},
   "outputs": [
    {
     "data": {
      "text/html": [
       "<style>\n",
       ".list-inline {list-style: none; margin:0; padding: 0}\n",
       ".list-inline>li {display: inline-block}\n",
       ".list-inline>li:not(:last-child)::after {content: \"\\00b7\"; padding: 0 .5ex}\n",
       "</style>\n",
       "<ol class=list-inline><li>'UCmiaNoZXnzfsa5yfsxaFcnw'</li><li>'UC3SMLUlhU9F00ovwTEEwRGw'</li><li>'UCF2byDO3lAGUc9YivG2-SpQ'</li><li>'UChBeA8mF_vtVZ5yeLz3Gs2A'</li><li>'UCBaRsZeCF14e7PEya8Vu4Fg'</li><li>'UCDb1MVUkr_8kQ4mLfjBorGw'</li><li>'UC3cNsSgH2C8oDw1-aBHmB7A'</li><li>'UC-eqG9dW9ydhDGs_t67URMg'</li><li>'UC_lPez-npoasT32Jiz3CyJA'</li><li>'UCOvRZ2NfIW67sEgWlBAB4iQ'</li><li>'UCuaDkaHSRoZHVpo8OBvEirQ'</li><li>'UCqSA9lMsWI23VcpAMZXnOYw'</li><li>'UCwmZiChSryoWQCZMIQezgTg'</li><li>'UCtmBoasiD85ET6GeHJjaFvg'</li><li>'UCSs2TVgq_ToPwsuY20s4SAg'</li><li>'UC4kyYTypYb3mQ6ZL25kly6g'</li><li>'UCam6yV3GTsYPWAxu-XIYHqQ'</li><li>'UC6LDW9--brdKNGF8lpVAHPw'</li><li>'UCV0zo6DvLdckCR_PKY5OCpA'</li><li>'UCLppK3FHqnzNGUwgl3Nvo2g'</li><li>'UCC14Fq2GD3dUMj6Pq0qcdlg'</li><li>'UCdAJa_TUPVEVQacAVrFafuw'</li><li>'UCiGOIXjFqy5_mUNxQNOMfHw'</li><li>'UC2kw0Igf-bx_qAwJNnZiPBg'</li><li>'UCpHMCDXxmYSFtk_qv2fwDIQ'</li><li>'UCHvzeCEIUed7TpzC7nHtL3w'</li><li>'UCckS1XjsHd5hMHnSBsRYZMw'</li><li>'UCyNDOuol6OIKPImq-tmePZQ'</li><li>'UC8EOSsUebfHxsmp1KecW93g'</li></ol>\n"
      ],
      "text/latex": [
       "\\begin{enumerate*}\n",
       "\\item 'UCmiaNoZXnzfsa5yfsxaFcnw'\n",
       "\\item 'UC3SMLUlhU9F00ovwTEEwRGw'\n",
       "\\item 'UCF2byDO3lAGUc9YivG2-SpQ'\n",
       "\\item 'UChBeA8mF\\_vtVZ5yeLz3Gs2A'\n",
       "\\item 'UCBaRsZeCF14e7PEya8Vu4Fg'\n",
       "\\item 'UCDb1MVUkr\\_8kQ4mLfjBorGw'\n",
       "\\item 'UC3cNsSgH2C8oDw1-aBHmB7A'\n",
       "\\item 'UC-eqG9dW9ydhDGs\\_t67URMg'\n",
       "\\item 'UC\\_lPez-npoasT32Jiz3CyJA'\n",
       "\\item 'UCOvRZ2NfIW67sEgWlBAB4iQ'\n",
       "\\item 'UCuaDkaHSRoZHVpo8OBvEirQ'\n",
       "\\item 'UCqSA9lMsWI23VcpAMZXnOYw'\n",
       "\\item 'UCwmZiChSryoWQCZMIQezgTg'\n",
       "\\item 'UCtmBoasiD85ET6GeHJjaFvg'\n",
       "\\item 'UCSs2TVgq\\_ToPwsuY20s4SAg'\n",
       "\\item 'UC4kyYTypYb3mQ6ZL25kly6g'\n",
       "\\item 'UCam6yV3GTsYPWAxu-XIYHqQ'\n",
       "\\item 'UC6LDW9--brdKNGF8lpVAHPw'\n",
       "\\item 'UCV0zo6DvLdckCR\\_PKY5OCpA'\n",
       "\\item 'UCLppK3FHqnzNGUwgl3Nvo2g'\n",
       "\\item 'UCC14Fq2GD3dUMj6Pq0qcdlg'\n",
       "\\item 'UCdAJa\\_TUPVEVQacAVrFafuw'\n",
       "\\item 'UCiGOIXjFqy5\\_mUNxQNOMfHw'\n",
       "\\item 'UC2kw0Igf-bx\\_qAwJNnZiPBg'\n",
       "\\item 'UCpHMCDXxmYSFtk\\_qv2fwDIQ'\n",
       "\\item 'UCHvzeCEIUed7TpzC7nHtL3w'\n",
       "\\item 'UCckS1XjsHd5hMHnSBsRYZMw'\n",
       "\\item 'UCyNDOuol6OIKPImq-tmePZQ'\n",
       "\\item 'UC8EOSsUebfHxsmp1KecW93g'\n",
       "\\end{enumerate*}\n"
      ],
      "text/markdown": [
       "1. 'UCmiaNoZXnzfsa5yfsxaFcnw'\n",
       "2. 'UC3SMLUlhU9F00ovwTEEwRGw'\n",
       "3. 'UCF2byDO3lAGUc9YivG2-SpQ'\n",
       "4. 'UChBeA8mF_vtVZ5yeLz3Gs2A'\n",
       "5. 'UCBaRsZeCF14e7PEya8Vu4Fg'\n",
       "6. 'UCDb1MVUkr_8kQ4mLfjBorGw'\n",
       "7. 'UC3cNsSgH2C8oDw1-aBHmB7A'\n",
       "8. 'UC-eqG9dW9ydhDGs_t67URMg'\n",
       "9. 'UC_lPez-npoasT32Jiz3CyJA'\n",
       "10. 'UCOvRZ2NfIW67sEgWlBAB4iQ'\n",
       "11. 'UCuaDkaHSRoZHVpo8OBvEirQ'\n",
       "12. 'UCqSA9lMsWI23VcpAMZXnOYw'\n",
       "13. 'UCwmZiChSryoWQCZMIQezgTg'\n",
       "14. 'UCtmBoasiD85ET6GeHJjaFvg'\n",
       "15. 'UCSs2TVgq_ToPwsuY20s4SAg'\n",
       "16. 'UC4kyYTypYb3mQ6ZL25kly6g'\n",
       "17. 'UCam6yV3GTsYPWAxu-XIYHqQ'\n",
       "18. 'UC6LDW9--brdKNGF8lpVAHPw'\n",
       "19. 'UCV0zo6DvLdckCR_PKY5OCpA'\n",
       "20. 'UCLppK3FHqnzNGUwgl3Nvo2g'\n",
       "21. 'UCC14Fq2GD3dUMj6Pq0qcdlg'\n",
       "22. 'UCdAJa_TUPVEVQacAVrFafuw'\n",
       "23. 'UCiGOIXjFqy5_mUNxQNOMfHw'\n",
       "24. 'UC2kw0Igf-bx_qAwJNnZiPBg'\n",
       "25. 'UCpHMCDXxmYSFtk_qv2fwDIQ'\n",
       "26. 'UCHvzeCEIUed7TpzC7nHtL3w'\n",
       "27. 'UCckS1XjsHd5hMHnSBsRYZMw'\n",
       "28. 'UCyNDOuol6OIKPImq-tmePZQ'\n",
       "29. 'UC8EOSsUebfHxsmp1KecW93g'\n",
       "\n",
       "\n"
      ],
      "text/plain": [
       " [1] \"UCmiaNoZXnzfsa5yfsxaFcnw\" \"UC3SMLUlhU9F00ovwTEEwRGw\"\n",
       " [3] \"UCF2byDO3lAGUc9YivG2-SpQ\" \"UChBeA8mF_vtVZ5yeLz3Gs2A\"\n",
       " [5] \"UCBaRsZeCF14e7PEya8Vu4Fg\" \"UCDb1MVUkr_8kQ4mLfjBorGw\"\n",
       " [7] \"UC3cNsSgH2C8oDw1-aBHmB7A\" \"UC-eqG9dW9ydhDGs_t67URMg\"\n",
       " [9] \"UC_lPez-npoasT32Jiz3CyJA\" \"UCOvRZ2NfIW67sEgWlBAB4iQ\"\n",
       "[11] \"UCuaDkaHSRoZHVpo8OBvEirQ\" \"UCqSA9lMsWI23VcpAMZXnOYw\"\n",
       "[13] \"UCwmZiChSryoWQCZMIQezgTg\" \"UCtmBoasiD85ET6GeHJjaFvg\"\n",
       "[15] \"UCSs2TVgq_ToPwsuY20s4SAg\" \"UC4kyYTypYb3mQ6ZL25kly6g\"\n",
       "[17] \"UCam6yV3GTsYPWAxu-XIYHqQ\" \"UC6LDW9--brdKNGF8lpVAHPw\"\n",
       "[19] \"UCV0zo6DvLdckCR_PKY5OCpA\" \"UCLppK3FHqnzNGUwgl3Nvo2g\"\n",
       "[21] \"UCC14Fq2GD3dUMj6Pq0qcdlg\" \"UCdAJa_TUPVEVQacAVrFafuw\"\n",
       "[23] \"UCiGOIXjFqy5_mUNxQNOMfHw\" \"UC2kw0Igf-bx_qAwJNnZiPBg\"\n",
       "[25] \"UCpHMCDXxmYSFtk_qv2fwDIQ\" \"UCHvzeCEIUed7TpzC7nHtL3w\"\n",
       "[27] \"UCckS1XjsHd5hMHnSBsRYZMw\" \"UCyNDOuol6OIKPImq-tmePZQ\"\n",
       "[29] \"UC8EOSsUebfHxsmp1KecW93g\""
      ]
     },
     "metadata": {},
     "output_type": "display_data"
    },
    {
     "data": {
      "text/html": [
       "29"
      ],
      "text/latex": [
       "29"
      ],
      "text/markdown": [
       "29"
      ],
      "text/plain": [
       "[1] 29"
      ]
     },
     "metadata": {},
     "output_type": "display_data"
    }
   ],
   "source": [
    "unique(recommendation[recommendation$category_recommended == 'Pets & Animals' & recommendation$twitter_graph == 'ABSENT', 'recommended_channel_id'])\n",
    "length(unique(recommendation[recommendation$category_recommended == 'Pets & Animals' & recommendation$twitter_graph == 'ABSENT', 'recommended_channel_id']))"
   ]
  },
  {
   "cell_type": "code",
   "execution_count": 19,
   "metadata": {},
   "outputs": [
    {
     "data": {
      "text/plain": [
       "\n",
       " ABSENT PRESENT \n",
       "     54     465 "
      ]
     },
     "metadata": {},
     "output_type": "display_data"
    },
    {
     "data": {
      "text/plain": [
       "\n",
       "   ABSENT   PRESENT \n",
       "0.1040462 0.8959538 "
      ]
     },
     "metadata": {},
     "output_type": "display_data"
    }
   ],
   "source": [
    "table(recommendation[recommendation$category_recommended == 'Pets & Animals', 'twitter_graph'])\n",
    "table(recommendation[recommendation$category_recommended == 'Pets & Animals', 'twitter_graph'])/nrow(recommendation[recommendation$category_recommended == 'Pets & Animals', ])"
   ]
  },
  {
   "cell_type": "markdown",
   "metadata": {},
   "source": [
    "**Around 90% of recommendations (PRESENT) come from only 9 channels. All those channels were misclassified by their creators as `Pets & Animals`. In fact, they either focus on political content or talk about political topics very frequently. The other 10% of recommendations (ABSENT) come from 29 channels that are correctly identified as `Pets & Animals`.**"
   ]
  },
  {
   "cell_type": "code",
   "execution_count": 20,
   "metadata": {},
   "outputs": [
    {
     "data": {
      "text/plain": [
       "\n",
       " ABSENT PRESENT \n",
       "    134     425 "
      ]
     },
     "metadata": {},
     "output_type": "display_data"
    },
    {
     "data": {
      "text/plain": [
       "\n",
       "   ABSENT   PRESENT \n",
       "0.2397138 0.7602862 "
      ]
     },
     "metadata": {},
     "output_type": "display_data"
    }
   ],
   "source": [
    "table(recommendation[recommendation$category_recommended == 'Film & Animation', 'twitter_graph'])\n",
    "table(recommendation[recommendation$category_recommended == 'Film & Animation', 'twitter_graph'])/nrow(recommendation[recommendation$category_recommended == 'Film & Animation', ])"
   ]
  },
  {
   "cell_type": "code",
   "execution_count": 21,
   "metadata": {},
   "outputs": [
    {
     "data": {
      "text/html": [
       "<style>\n",
       ".list-inline {list-style: none; margin:0; padding: 0}\n",
       ".list-inline>li {display: inline-block}\n",
       ".list-inline>li:not(:last-child)::after {content: \"\\00b7\"; padding: 0 .5ex}\n",
       "</style>\n",
       "<ol class=list-inline><li>'UCBKBvxZaRWdRYGUgMPfXxjg'</li><li>'UCEoslUVXeGLIFtyp9ZfnGug'</li><li>'UCC2cGGZOMa8f4GDuSaRX86A'</li><li>'UCPYIYR0J8ppEJVtR1weLnBw'</li><li>'UCX2M7xn-jMmq4KfX25TCTCA'</li><li>'UCrQ4fiNiLn1hyPjFf1TjihA'</li><li>'UC4JfQ8DhFAS5wv3VasiS9Ag'</li><li>'UCSvV1N6IAK3FxZTo0YxuXxQ'</li><li>'UCU_9yd7AqNTToxRpCvhssMg'</li><li>'UCV2kagEmsbrO5lc6glH-8jA'</li><li>'UCkWU59eSRp41W6bCdyJlRdg'</li><li>'UCv2svvDbMNunUuPs8hUUKVA'</li><li>'UCVLMRyUik9KrSdFdfRUiFgg'</li><li>'UCqdBgTgaWf11tl_V2wa6xNQ'</li><li>'UCNId_zjAw2b4Jp7rjL2v4Lw'</li></ol>\n"
      ],
      "text/latex": [
       "\\begin{enumerate*}\n",
       "\\item 'UCBKBvxZaRWdRYGUgMPfXxjg'\n",
       "\\item 'UCEoslUVXeGLIFtyp9ZfnGug'\n",
       "\\item 'UCC2cGGZOMa8f4GDuSaRX86A'\n",
       "\\item 'UCPYIYR0J8ppEJVtR1weLnBw'\n",
       "\\item 'UCX2M7xn-jMmq4KfX25TCTCA'\n",
       "\\item 'UCrQ4fiNiLn1hyPjFf1TjihA'\n",
       "\\item 'UC4JfQ8DhFAS5wv3VasiS9Ag'\n",
       "\\item 'UCSvV1N6IAK3FxZTo0YxuXxQ'\n",
       "\\item 'UCU\\_9yd7AqNTToxRpCvhssMg'\n",
       "\\item 'UCV2kagEmsbrO5lc6glH-8jA'\n",
       "\\item 'UCkWU59eSRp41W6bCdyJlRdg'\n",
       "\\item 'UCv2svvDbMNunUuPs8hUUKVA'\n",
       "\\item 'UCVLMRyUik9KrSdFdfRUiFgg'\n",
       "\\item 'UCqdBgTgaWf11tl\\_V2wa6xNQ'\n",
       "\\item 'UCNId\\_zjAw2b4Jp7rjL2v4Lw'\n",
       "\\end{enumerate*}\n"
      ],
      "text/markdown": [
       "1. 'UCBKBvxZaRWdRYGUgMPfXxjg'\n",
       "2. 'UCEoslUVXeGLIFtyp9ZfnGug'\n",
       "3. 'UCC2cGGZOMa8f4GDuSaRX86A'\n",
       "4. 'UCPYIYR0J8ppEJVtR1weLnBw'\n",
       "5. 'UCX2M7xn-jMmq4KfX25TCTCA'\n",
       "6. 'UCrQ4fiNiLn1hyPjFf1TjihA'\n",
       "7. 'UC4JfQ8DhFAS5wv3VasiS9Ag'\n",
       "8. 'UCSvV1N6IAK3FxZTo0YxuXxQ'\n",
       "9. 'UCU_9yd7AqNTToxRpCvhssMg'\n",
       "10. 'UCV2kagEmsbrO5lc6glH-8jA'\n",
       "11. 'UCkWU59eSRp41W6bCdyJlRdg'\n",
       "12. 'UCv2svvDbMNunUuPs8hUUKVA'\n",
       "13. 'UCVLMRyUik9KrSdFdfRUiFgg'\n",
       "14. 'UCqdBgTgaWf11tl_V2wa6xNQ'\n",
       "15. 'UCNId_zjAw2b4Jp7rjL2v4Lw'\n",
       "\n",
       "\n"
      ],
      "text/plain": [
       " [1] \"UCBKBvxZaRWdRYGUgMPfXxjg\" \"UCEoslUVXeGLIFtyp9ZfnGug\"\n",
       " [3] \"UCC2cGGZOMa8f4GDuSaRX86A\" \"UCPYIYR0J8ppEJVtR1weLnBw\"\n",
       " [5] \"UCX2M7xn-jMmq4KfX25TCTCA\" \"UCrQ4fiNiLn1hyPjFf1TjihA\"\n",
       " [7] \"UC4JfQ8DhFAS5wv3VasiS9Ag\" \"UCSvV1N6IAK3FxZTo0YxuXxQ\"\n",
       " [9] \"UCU_9yd7AqNTToxRpCvhssMg\" \"UCV2kagEmsbrO5lc6glH-8jA\"\n",
       "[11] \"UCkWU59eSRp41W6bCdyJlRdg\" \"UCv2svvDbMNunUuPs8hUUKVA\"\n",
       "[13] \"UCVLMRyUik9KrSdFdfRUiFgg\" \"UCqdBgTgaWf11tl_V2wa6xNQ\"\n",
       "[15] \"UCNId_zjAw2b4Jp7rjL2v4Lw\""
      ]
     },
     "metadata": {},
     "output_type": "display_data"
    },
    {
     "data": {
      "text/html": [
       "15"
      ],
      "text/latex": [
       "15"
      ],
      "text/markdown": [
       "15"
      ],
      "text/plain": [
       "[1] 15"
      ]
     },
     "metadata": {},
     "output_type": "display_data"
    }
   ],
   "source": [
    "unique(recommendation[recommendation$category_recommended == 'Film & Animation' & recommendation$twitter_graph == 'PRESENT', 'recommended_channel_id'])\n",
    "length(unique(recommendation[recommendation$category_recommended == 'Film & Animation' & recommendation$twitter_graph == 'PRESENT', 'recommended_channel_id']))"
   ]
  },
  {
   "cell_type": "code",
   "execution_count": 22,
   "metadata": {},
   "outputs": [
    {
     "data": {
      "text/html": [
       "<style>\n",
       ".list-inline {list-style: none; margin:0; padding: 0}\n",
       ".list-inline>li {display: inline-block}\n",
       ".list-inline>li:not(:last-child)::after {content: \"\\00b7\"; padding: 0 .5ex}\n",
       "</style>\n",
       "<ol class=list-inline><li>'UC75azx7rPcImmpNvIguyDRA'</li><li>'UC3YchQMt1mWon2YnvsmOasg'</li><li>'UC8PS8EsZsWXOQ1YmlJwCaYw'</li><li>'UCqaWosAxf_koG94WaiXq27g'</li><li>'UCeCK3Dpmjt14tIDe-lhhO-Q'</li><li>'UC-Rp7gJdAl0PvRUBjLTFLSg'</li><li>'UCMzpsrLikP9IE5Wqt-c2Aag'</li><li>'UCKVrZpByd1Z7F073rEcCP1Q'</li><li>'UCQe-nusTPaiBII2tZJBbOmg'</li><li>'UCXQGKJd_vp2ly6Dm5XgYFWQ'</li><li>'UC-j9WQf6n9c81qVDtn-II_Q'</li><li>'UCYT4J5OxilTQVv6PBjpIIKQ'</li><li>'UCYq-iAOSZBvoUxvfzwKIZWA'</li><li>'UC7UhE9v8aUS3zW7fQFUZfag'</li><li>'UCJmi8A0cre-eeonfsFgnXKw'</li><li>'UCcSCH8sMQ-oL9028xs5UgTg'</li><li>'UCMkfplx8TFPlINxcXLXL0KQ'</li><li>'UCoDBW9MUSMhhjrPxhxLyT1A'</li><li>'UCBy64MAeyjbPn9m12r6x-TQ'</li><li>'UC_ZyQ5Z1b2ZNMOZmwp6_DPg'</li><li>'UC2eb58Gxb613nJDjpuwWmgg'</li><li>'UCC7ElkFVK3m03gEMfaq6Ung'</li><li>'UCCtkj3NZl5v8TDMtDr7LDag'</li><li>'UCytNlgCf5kfL8iS6OGgkKYQ'</li><li>'UCd8z3gfB0ZUnZNq5Di5t1QA'</li><li>'UCp-ZlVc-lJ7MrdlzMOJU36g'</li><li>'UCQb__wEpi5q8_xhkuk2jm5g'</li><li>'UC61CPbjIcb8AredRR_Y94TA'</li><li>'UCWwicwAwBS0ocAJr2-yhKDQ'</li><li>'UCd8J_aeX6_AaoZOG9QKffrw'</li><li>'UCYYcZWo9Am705B9P-lno5tA'</li><li>'UCK4dOs3ln_BSotkdhK5dzOw'</li><li>'UCeCNJFVFZrbeQA-wfTMchqg'</li><li>'UCKCaTZ3S6G_HqXlrflzX3WQ'</li><li>'UCE70RrYW1i7RaiLQCKkdUIQ'</li><li>'UCOxKYSITnM7Pt-yMXcNYrGg'</li><li>'UCcFoPzfCXeTsTRDrL46vLNg'</li><li>'UC_SRQEScGB2ZdO6hZlmBUlw'</li><li>'UCWjz-o1Shh7SfcyZm0LdrTQ'</li><li>'UChyEFtvkuRC_E93FZgVbj9g'</li><li>'UC4DeKBDTzFyj2rBCHEsvFkQ'</li><li>'UC-GAhNmY6bkuuRPUSaRI_oQ'</li><li>'UCq3HBedsWI5NU1G3Oe8YS6A'</li><li>'UCqmL6CcFIOZKLDQ1W45ur_A'</li><li>'UCHSkSVGsdabMFZ7ZkNSxo4A'</li><li>'UCJ1T27qfdN7k7Fqpn2CwJGw'</li><li>'UC7U72Ze-y8s4hvAmRvhXPgQ'</li><li>'UCKgei5VNEBfwprLT1_6qFXA'</li><li>'UCUMH1HswYrQqjxPYGIxtOtA'</li><li>'UCuBUgg6aDGH2kZZDyNQx3AQ'</li><li>'UCuMS9Ge1phL958rkHtQRH-A'</li><li>'UCPk29gUc_ltOGQ6f3Lh5kCg'</li><li>'UCCYCzL7IuMho0bHYYJ3Cuyw'</li><li>'UCgRi4z6xTdB9fAJKYLLAKdg'</li><li>'UCkgs3mnbrvj_6SH17WB7s9g'</li></ol>\n"
      ],
      "text/latex": [
       "\\begin{enumerate*}\n",
       "\\item 'UC75azx7rPcImmpNvIguyDRA'\n",
       "\\item 'UC3YchQMt1mWon2YnvsmOasg'\n",
       "\\item 'UC8PS8EsZsWXOQ1YmlJwCaYw'\n",
       "\\item 'UCqaWosAxf\\_koG94WaiXq27g'\n",
       "\\item 'UCeCK3Dpmjt14tIDe-lhhO-Q'\n",
       "\\item 'UC-Rp7gJdAl0PvRUBjLTFLSg'\n",
       "\\item 'UCMzpsrLikP9IE5Wqt-c2Aag'\n",
       "\\item 'UCKVrZpByd1Z7F073rEcCP1Q'\n",
       "\\item 'UCQe-nusTPaiBII2tZJBbOmg'\n",
       "\\item 'UCXQGKJd\\_vp2ly6Dm5XgYFWQ'\n",
       "\\item 'UC-j9WQf6n9c81qVDtn-II\\_Q'\n",
       "\\item 'UCYT4J5OxilTQVv6PBjpIIKQ'\n",
       "\\item 'UCYq-iAOSZBvoUxvfzwKIZWA'\n",
       "\\item 'UC7UhE9v8aUS3zW7fQFUZfag'\n",
       "\\item 'UCJmi8A0cre-eeonfsFgnXKw'\n",
       "\\item 'UCcSCH8sMQ-oL9028xs5UgTg'\n",
       "\\item 'UCMkfplx8TFPlINxcXLXL0KQ'\n",
       "\\item 'UCoDBW9MUSMhhjrPxhxLyT1A'\n",
       "\\item 'UCBy64MAeyjbPn9m12r6x-TQ'\n",
       "\\item 'UC\\_ZyQ5Z1b2ZNMOZmwp6\\_DPg'\n",
       "\\item 'UC2eb58Gxb613nJDjpuwWmgg'\n",
       "\\item 'UCC7ElkFVK3m03gEMfaq6Ung'\n",
       "\\item 'UCCtkj3NZl5v8TDMtDr7LDag'\n",
       "\\item 'UCytNlgCf5kfL8iS6OGgkKYQ'\n",
       "\\item 'UCd8z3gfB0ZUnZNq5Di5t1QA'\n",
       "\\item 'UCp-ZlVc-lJ7MrdlzMOJU36g'\n",
       "\\item 'UCQb\\_\\_wEpi5q8\\_xhkuk2jm5g'\n",
       "\\item 'UC61CPbjIcb8AredRR\\_Y94TA'\n",
       "\\item 'UCWwicwAwBS0ocAJr2-yhKDQ'\n",
       "\\item 'UCd8J\\_aeX6\\_AaoZOG9QKffrw'\n",
       "\\item 'UCYYcZWo9Am705B9P-lno5tA'\n",
       "\\item 'UCK4dOs3ln\\_BSotkdhK5dzOw'\n",
       "\\item 'UCeCNJFVFZrbeQA-wfTMchqg'\n",
       "\\item 'UCKCaTZ3S6G\\_HqXlrflzX3WQ'\n",
       "\\item 'UCE70RrYW1i7RaiLQCKkdUIQ'\n",
       "\\item 'UCOxKYSITnM7Pt-yMXcNYrGg'\n",
       "\\item 'UCcFoPzfCXeTsTRDrL46vLNg'\n",
       "\\item 'UC\\_SRQEScGB2ZdO6hZlmBUlw'\n",
       "\\item 'UCWjz-o1Shh7SfcyZm0LdrTQ'\n",
       "\\item 'UChyEFtvkuRC\\_E93FZgVbj9g'\n",
       "\\item 'UC4DeKBDTzFyj2rBCHEsvFkQ'\n",
       "\\item 'UC-GAhNmY6bkuuRPUSaRI\\_oQ'\n",
       "\\item 'UCq3HBedsWI5NU1G3Oe8YS6A'\n",
       "\\item 'UCqmL6CcFIOZKLDQ1W45ur\\_A'\n",
       "\\item 'UCHSkSVGsdabMFZ7ZkNSxo4A'\n",
       "\\item 'UCJ1T27qfdN7k7Fqpn2CwJGw'\n",
       "\\item 'UC7U72Ze-y8s4hvAmRvhXPgQ'\n",
       "\\item 'UCKgei5VNEBfwprLT1\\_6qFXA'\n",
       "\\item 'UCUMH1HswYrQqjxPYGIxtOtA'\n",
       "\\item 'UCuBUgg6aDGH2kZZDyNQx3AQ'\n",
       "\\item 'UCuMS9Ge1phL958rkHtQRH-A'\n",
       "\\item 'UCPk29gUc\\_ltOGQ6f3Lh5kCg'\n",
       "\\item 'UCCYCzL7IuMho0bHYYJ3Cuyw'\n",
       "\\item 'UCgRi4z6xTdB9fAJKYLLAKdg'\n",
       "\\item 'UCkgs3mnbrvj\\_6SH17WB7s9g'\n",
       "\\end{enumerate*}\n"
      ],
      "text/markdown": [
       "1. 'UC75azx7rPcImmpNvIguyDRA'\n",
       "2. 'UC3YchQMt1mWon2YnvsmOasg'\n",
       "3. 'UC8PS8EsZsWXOQ1YmlJwCaYw'\n",
       "4. 'UCqaWosAxf_koG94WaiXq27g'\n",
       "5. 'UCeCK3Dpmjt14tIDe-lhhO-Q'\n",
       "6. 'UC-Rp7gJdAl0PvRUBjLTFLSg'\n",
       "7. 'UCMzpsrLikP9IE5Wqt-c2Aag'\n",
       "8. 'UCKVrZpByd1Z7F073rEcCP1Q'\n",
       "9. 'UCQe-nusTPaiBII2tZJBbOmg'\n",
       "10. 'UCXQGKJd_vp2ly6Dm5XgYFWQ'\n",
       "11. 'UC-j9WQf6n9c81qVDtn-II_Q'\n",
       "12. 'UCYT4J5OxilTQVv6PBjpIIKQ'\n",
       "13. 'UCYq-iAOSZBvoUxvfzwKIZWA'\n",
       "14. 'UC7UhE9v8aUS3zW7fQFUZfag'\n",
       "15. 'UCJmi8A0cre-eeonfsFgnXKw'\n",
       "16. 'UCcSCH8sMQ-oL9028xs5UgTg'\n",
       "17. 'UCMkfplx8TFPlINxcXLXL0KQ'\n",
       "18. 'UCoDBW9MUSMhhjrPxhxLyT1A'\n",
       "19. 'UCBy64MAeyjbPn9m12r6x-TQ'\n",
       "20. 'UC_ZyQ5Z1b2ZNMOZmwp6_DPg'\n",
       "21. 'UC2eb58Gxb613nJDjpuwWmgg'\n",
       "22. 'UCC7ElkFVK3m03gEMfaq6Ung'\n",
       "23. 'UCCtkj3NZl5v8TDMtDr7LDag'\n",
       "24. 'UCytNlgCf5kfL8iS6OGgkKYQ'\n",
       "25. 'UCd8z3gfB0ZUnZNq5Di5t1QA'\n",
       "26. 'UCp-ZlVc-lJ7MrdlzMOJU36g'\n",
       "27. 'UCQb__wEpi5q8_xhkuk2jm5g'\n",
       "28. 'UC61CPbjIcb8AredRR_Y94TA'\n",
       "29. 'UCWwicwAwBS0ocAJr2-yhKDQ'\n",
       "30. 'UCd8J_aeX6_AaoZOG9QKffrw'\n",
       "31. 'UCYYcZWo9Am705B9P-lno5tA'\n",
       "32. 'UCK4dOs3ln_BSotkdhK5dzOw'\n",
       "33. 'UCeCNJFVFZrbeQA-wfTMchqg'\n",
       "34. 'UCKCaTZ3S6G_HqXlrflzX3WQ'\n",
       "35. 'UCE70RrYW1i7RaiLQCKkdUIQ'\n",
       "36. 'UCOxKYSITnM7Pt-yMXcNYrGg'\n",
       "37. 'UCcFoPzfCXeTsTRDrL46vLNg'\n",
       "38. 'UC_SRQEScGB2ZdO6hZlmBUlw'\n",
       "39. 'UCWjz-o1Shh7SfcyZm0LdrTQ'\n",
       "40. 'UChyEFtvkuRC_E93FZgVbj9g'\n",
       "41. 'UC4DeKBDTzFyj2rBCHEsvFkQ'\n",
       "42. 'UC-GAhNmY6bkuuRPUSaRI_oQ'\n",
       "43. 'UCq3HBedsWI5NU1G3Oe8YS6A'\n",
       "44. 'UCqmL6CcFIOZKLDQ1W45ur_A'\n",
       "45. 'UCHSkSVGsdabMFZ7ZkNSxo4A'\n",
       "46. 'UCJ1T27qfdN7k7Fqpn2CwJGw'\n",
       "47. 'UC7U72Ze-y8s4hvAmRvhXPgQ'\n",
       "48. 'UCKgei5VNEBfwprLT1_6qFXA'\n",
       "49. 'UCUMH1HswYrQqjxPYGIxtOtA'\n",
       "50. 'UCuBUgg6aDGH2kZZDyNQx3AQ'\n",
       "51. 'UCuMS9Ge1phL958rkHtQRH-A'\n",
       "52. 'UCPk29gUc_ltOGQ6f3Lh5kCg'\n",
       "53. 'UCCYCzL7IuMho0bHYYJ3Cuyw'\n",
       "54. 'UCgRi4z6xTdB9fAJKYLLAKdg'\n",
       "55. 'UCkgs3mnbrvj_6SH17WB7s9g'\n",
       "\n",
       "\n"
      ],
      "text/plain": [
       " [1] \"UC75azx7rPcImmpNvIguyDRA\" \"UC3YchQMt1mWon2YnvsmOasg\"\n",
       " [3] \"UC8PS8EsZsWXOQ1YmlJwCaYw\" \"UCqaWosAxf_koG94WaiXq27g\"\n",
       " [5] \"UCeCK3Dpmjt14tIDe-lhhO-Q\" \"UC-Rp7gJdAl0PvRUBjLTFLSg\"\n",
       " [7] \"UCMzpsrLikP9IE5Wqt-c2Aag\" \"UCKVrZpByd1Z7F073rEcCP1Q\"\n",
       " [9] \"UCQe-nusTPaiBII2tZJBbOmg\" \"UCXQGKJd_vp2ly6Dm5XgYFWQ\"\n",
       "[11] \"UC-j9WQf6n9c81qVDtn-II_Q\" \"UCYT4J5OxilTQVv6PBjpIIKQ\"\n",
       "[13] \"UCYq-iAOSZBvoUxvfzwKIZWA\" \"UC7UhE9v8aUS3zW7fQFUZfag\"\n",
       "[15] \"UCJmi8A0cre-eeonfsFgnXKw\" \"UCcSCH8sMQ-oL9028xs5UgTg\"\n",
       "[17] \"UCMkfplx8TFPlINxcXLXL0KQ\" \"UCoDBW9MUSMhhjrPxhxLyT1A\"\n",
       "[19] \"UCBy64MAeyjbPn9m12r6x-TQ\" \"UC_ZyQ5Z1b2ZNMOZmwp6_DPg\"\n",
       "[21] \"UC2eb58Gxb613nJDjpuwWmgg\" \"UCC7ElkFVK3m03gEMfaq6Ung\"\n",
       "[23] \"UCCtkj3NZl5v8TDMtDr7LDag\" \"UCytNlgCf5kfL8iS6OGgkKYQ\"\n",
       "[25] \"UCd8z3gfB0ZUnZNq5Di5t1QA\" \"UCp-ZlVc-lJ7MrdlzMOJU36g\"\n",
       "[27] \"UCQb__wEpi5q8_xhkuk2jm5g\" \"UC61CPbjIcb8AredRR_Y94TA\"\n",
       "[29] \"UCWwicwAwBS0ocAJr2-yhKDQ\" \"UCd8J_aeX6_AaoZOG9QKffrw\"\n",
       "[31] \"UCYYcZWo9Am705B9P-lno5tA\" \"UCK4dOs3ln_BSotkdhK5dzOw\"\n",
       "[33] \"UCeCNJFVFZrbeQA-wfTMchqg\" \"UCKCaTZ3S6G_HqXlrflzX3WQ\"\n",
       "[35] \"UCE70RrYW1i7RaiLQCKkdUIQ\" \"UCOxKYSITnM7Pt-yMXcNYrGg\"\n",
       "[37] \"UCcFoPzfCXeTsTRDrL46vLNg\" \"UC_SRQEScGB2ZdO6hZlmBUlw\"\n",
       "[39] \"UCWjz-o1Shh7SfcyZm0LdrTQ\" \"UChyEFtvkuRC_E93FZgVbj9g\"\n",
       "[41] \"UC4DeKBDTzFyj2rBCHEsvFkQ\" \"UC-GAhNmY6bkuuRPUSaRI_oQ\"\n",
       "[43] \"UCq3HBedsWI5NU1G3Oe8YS6A\" \"UCqmL6CcFIOZKLDQ1W45ur_A\"\n",
       "[45] \"UCHSkSVGsdabMFZ7ZkNSxo4A\" \"UCJ1T27qfdN7k7Fqpn2CwJGw\"\n",
       "[47] \"UC7U72Ze-y8s4hvAmRvhXPgQ\" \"UCKgei5VNEBfwprLT1_6qFXA\"\n",
       "[49] \"UCUMH1HswYrQqjxPYGIxtOtA\" \"UCuBUgg6aDGH2kZZDyNQx3AQ\"\n",
       "[51] \"UCuMS9Ge1phL958rkHtQRH-A\" \"UCPk29gUc_ltOGQ6f3Lh5kCg\"\n",
       "[53] \"UCCYCzL7IuMho0bHYYJ3Cuyw\" \"UCgRi4z6xTdB9fAJKYLLAKdg\"\n",
       "[55] \"UCkgs3mnbrvj_6SH17WB7s9g\""
      ]
     },
     "metadata": {},
     "output_type": "display_data"
    },
    {
     "data": {
      "text/html": [
       "55"
      ],
      "text/latex": [
       "55"
      ],
      "text/markdown": [
       "55"
      ],
      "text/plain": [
       "[1] 55"
      ]
     },
     "metadata": {},
     "output_type": "display_data"
    }
   ],
   "source": [
    "unique(recommendation[recommendation$category_recommended == 'Film & Animation' & recommendation$twitter_graph == 'ABSENT', 'recommended_channel_id'])\n",
    "length(unique(recommendation[recommendation$category_recommended == 'Film & Animation' & recommendation$twitter_graph == 'ABSENT', 'recommended_channel_id']))"
   ]
  },
  {
   "cell_type": "markdown",
   "metadata": {},
   "source": [
    "**Something similar happened to the category `Film & Animation`.**"
   ]
  },
  {
   "cell_type": "markdown",
   "metadata": {},
   "source": [
    "# Other predictors"
   ]
  },
  {
   "cell_type": "markdown",
   "metadata": {},
   "source": [
    "It is worth checking if other predictors also influence if a recommendation is PRESENT or ABSENT in the Twitter graph."
   ]
  },
  {
   "cell_type": "code",
   "execution_count": 23,
   "metadata": {},
   "outputs": [],
   "source": [
    "recommendation[['category_seed']] <- as.factor(recommendation[['category_seed']])"
   ]
  },
  {
   "cell_type": "code",
   "execution_count": 24,
   "metadata": {},
   "outputs": [
    {
     "data": {
      "text/plain": [
       "\n",
       "Call:\n",
       "glm(formula = twitter_graph ~ category_seed, family = binomial, \n",
       "    data = recommendation[train, ])\n",
       "\n",
       "Deviance Residuals: \n",
       "    Min       1Q   Median       3Q      Max  \n",
       "-2.0741   0.6458   0.6458   0.6607   1.4823  \n",
       "\n",
       "Coefficients:\n",
       "                                   Estimate Std. Error z value Pr(>|z|)    \n",
       "(Intercept)                         1.05486    0.11122   9.485  < 2e-16 ***\n",
       "category_seedEducation             -0.04933    0.14369  -0.343 0.731350    \n",
       "category_seedEntertainment          0.35597    0.11579   3.074 0.002110 ** \n",
       "category_seedFilm & Animation      -0.06888    0.16286  -0.423 0.672326    \n",
       "category_seedGaming                -1.74800    1.22978  -1.421 0.155204    \n",
       "category_seedMusic                 -0.97689    0.19592  -4.986 6.15e-07 ***\n",
       "category_seedNews & Politics        0.40674    0.11239   3.619 0.000296 ***\n",
       "category_seedNonprofits & Activism -0.67144    0.16758  -4.007 6.16e-05 ***\n",
       "category_seedPeople & Blogs         0.29541    0.11409   2.589 0.009619 ** \n",
       "category_seedPets & Animals         0.97247    0.21848   4.451 8.55e-06 ***\n",
       "category_seedScience & Technology   0.06729    0.24436   0.275 0.783037    \n",
       "category_seedSports                10.51120   80.41180   0.131 0.895999    \n",
       "category_seedTravel & Events        0.73690    0.77182   0.955 0.339697    \n",
       "---\n",
       "Signif. codes:  0 '***' 0.001 '**' 0.01 '*' 0.05 '.' 0.1 ' ' 1\n",
       "\n",
       "(Dispersion parameter for binomial family taken to be 1)\n",
       "\n",
       "    Null deviance: 42502  on 42722  degrees of freedom\n",
       "Residual deviance: 42304  on 42710  degrees of freedom\n",
       "AIC: 42330\n",
       "\n",
       "Number of Fisher Scoring iterations: 10\n"
      ]
     },
     "metadata": {},
     "output_type": "display_data"
    }
   ],
   "source": [
    "glm.model <- glm(twitter_graph~category_seed, data=recommendation[train,], family=binomial)\n",
    "summary(glm.model)"
   ]
  },
  {
   "cell_type": "code",
   "execution_count": 25,
   "metadata": {},
   "outputs": [
    {
     "data": {
      "text/plain": [
       "         \n",
       "          ABSENT PRESENT\n",
       "  ABSENT       2    8451\n",
       "  PRESENT      1   34269"
      ]
     },
     "metadata": {},
     "output_type": "display_data"
    },
    {
     "data": {
      "text/plain": [
       "         \n",
       "          ABSENT PRESENT\n",
       "  ABSENT   0.000   0.198\n",
       "  PRESENT  0.000   0.802"
      ]
     },
     "metadata": {},
     "output_type": "display_data"
    },
    {
     "name": "stdout",
     "output_type": "stream",
     "text": [
      "[1] \"Accuracy:\"\n"
     ]
    },
    {
     "data": {
      "text/html": [
       "0.802167450787632"
      ],
      "text/latex": [
       "0.802167450787632"
      ],
      "text/markdown": [
       "0.802167450787632"
      ],
      "text/plain": [
       "[1] 0.8021675"
      ]
     },
     "metadata": {},
     "output_type": "display_data"
    }
   ],
   "source": [
    "glm.probabilities <- predict(glm.model, recommendation[train,], type=\"response\")\n",
    "recommendation[train, 'predicted'] <- ifelse(glm.probabilities < .5,\n",
    "                                             levels(recommendation$twitter_graph)[1],\n",
    "                                             levels(recommendation$twitter_graph)[2])\n",
    "classification.table <- table(recommendation[train, 'twitter_graph'], recommendation[train,'predicted'])\n",
    "classification.table\n",
    "round(classification.table/nrow(recommendation[train,]),3)\n",
    "print('Accuracy:')\n",
    "sum(diag(classification.table))/sum(classification.table)"
   ]
  },
  {
   "cell_type": "markdown",
   "metadata": {},
   "source": [
    "**`category_seed` is not better than intercept only.**"
   ]
  },
  {
   "cell_type": "code",
   "execution_count": 43,
   "metadata": {},
   "outputs": [],
   "source": [
    "# convert to date when appropriate\n",
    "recommendation[['recommendation_date']] <- as.Date(recommendation[['recommendation_date']])\n",
    "recommendation[['recommended_published_at']] <- as.Date(recommendation[['recommended_published_at']])\n",
    "recommendation[['age_in_days']] <- as.numeric(recommendation[['recommendation_date']] - recommendation[['recommended_published_at']])"
   ]
  },
  {
   "cell_type": "code",
   "execution_count": 44,
   "metadata": {},
   "outputs": [
    {
     "data": {
      "text/plain": [
       "\n",
       "Call:\n",
       "glm(formula = twitter_graph ~ age_in_days, family = binomial, \n",
       "    data = recommendation[train, ])\n",
       "\n",
       "Deviance Residuals: \n",
       "    Min       1Q   Median       3Q      Max  \n",
       "-2.0192   0.5286   0.5290   0.5321   2.8701  \n",
       "\n",
       "Coefficients:\n",
       "              Estimate Std. Error z value Pr(>|z|)    \n",
       "(Intercept)  1.899e+00  1.538e-02   123.5   <2e-16 ***\n",
       "age_in_days -1.555e-03  2.382e-05   -65.3   <2e-16 ***\n",
       "---\n",
       "Signif. codes:  0 '***' 0.001 '**' 0.01 '*' 0.05 '.' 0.1 ' ' 1\n",
       "\n",
       "(Dispersion parameter for binomial family taken to be 1)\n",
       "\n",
       "    Null deviance: 42502  on 42722  degrees of freedom\n",
       "Residual deviance: 36714  on 42721  degrees of freedom\n",
       "AIC: 36718\n",
       "\n",
       "Number of Fisher Scoring iterations: 4\n"
      ]
     },
     "metadata": {},
     "output_type": "display_data"
    }
   ],
   "source": [
    "glm.model <- glm(twitter_graph~age_in_days, data=recommendation[train,], family=binomial)\n",
    "summary(glm.model)"
   ]
  },
  {
   "cell_type": "markdown",
   "metadata": {},
   "source": [
    "**Training set:**"
   ]
  },
  {
   "cell_type": "code",
   "execution_count": 45,
   "metadata": {},
   "outputs": [
    {
     "data": {
      "text/plain": [
       "         \n",
       "          ABSENT PRESENT\n",
       "  ABSENT    1925    6528\n",
       "  PRESENT   1094   33176"
      ]
     },
     "metadata": {},
     "output_type": "display_data"
    },
    {
     "data": {
      "text/plain": [
       "         \n",
       "          ABSENT PRESENT\n",
       "  ABSENT   0.045   0.153\n",
       "  PRESENT  0.026   0.777"
      ]
     },
     "metadata": {},
     "output_type": "display_data"
    },
    {
     "name": "stdout",
     "output_type": "stream",
     "text": [
      "[1] \"Accuracy:\"\n"
     ]
    },
    {
     "data": {
      "text/html": [
       "0.821594925449992"
      ],
      "text/latex": [
       "0.821594925449992"
      ],
      "text/markdown": [
       "0.821594925449992"
      ],
      "text/plain": [
       "[1] 0.8215949"
      ]
     },
     "metadata": {},
     "output_type": "display_data"
    }
   ],
   "source": [
    "glm.probabilities <- predict(glm.model, recommendation[train,], type=\"response\")\n",
    "recommendation[train, 'predicted'] <- ifelse(glm.probabilities < .5,\n",
    "                                             levels(recommendation$twitter_graph)[1],\n",
    "                                             levels(recommendation$twitter_graph)[2])\n",
    "classification.table <- table(recommendation[train, 'twitter_graph'], recommendation[train,'predicted'])\n",
    "classification.table\n",
    "round(classification.table/nrow(recommendation[train,]),3)\n",
    "print('Accuracy:')\n",
    "sum(diag(classification.table))/sum(classification.table)"
   ]
  },
  {
   "cell_type": "markdown",
   "metadata": {},
   "source": [
    "**Test set:**"
   ]
  },
  {
   "cell_type": "code",
   "execution_count": 46,
   "metadata": {},
   "outputs": [
    {
     "data": {
      "text/plain": [
       "         \n",
       "          ABSENT PRESENT\n",
       "  ABSENT     830    2767\n",
       "  PRESENT    517   14195"
      ]
     },
     "metadata": {},
     "output_type": "display_data"
    },
    {
     "data": {
      "text/plain": [
       "         \n",
       "          ABSENT PRESENT\n",
       "  ABSENT   0.045   0.151\n",
       "  PRESENT  0.028   0.775"
      ]
     },
     "metadata": {},
     "output_type": "display_data"
    },
    {
     "name": "stdout",
     "output_type": "stream",
     "text": [
      "[1] \"Accuracy:\"\n"
     ]
    },
    {
     "data": {
      "text/html": [
       "0.820634660549457"
      ],
      "text/latex": [
       "0.820634660549457"
      ],
      "text/markdown": [
       "0.820634660549457"
      ],
      "text/plain": [
       "[1] 0.8206347"
      ]
     },
     "metadata": {},
     "output_type": "display_data"
    }
   ],
   "source": [
    "glm.probabilities <- predict(glm.model, recommendation[test,], type=\"response\")\n",
    "recommendation[test, 'predicted'] <- ifelse(glm.probabilities < .5,\n",
    "                                            levels(recommendation$twitter_graph)[1],\n",
    "                                            levels(recommendation$twitter_graph)[2])\n",
    "classification.table <- table(recommendation[test, 'twitter_graph'], recommendation[test,'predicted'])\n",
    "classification.table\n",
    "round(classification.table/nrow(recommendation[test,]),3)\n",
    "print('Accuracy:')\n",
    "sum(diag(classification.table))/sum(classification.table)"
   ]
  },
  {
   "cell_type": "markdown",
   "metadata": {},
   "source": [
    "**Why do 11 recommendations have negative `age_in_days`?**"
   ]
  },
  {
   "cell_type": "code",
   "execution_count": 88,
   "metadata": {},
   "outputs": [
    {
     "data": {
      "text/html": [
       "<table>\n",
       "<caption>A data.frame: 11 × 34</caption>\n",
       "<thead>\n",
       "\t<tr><th></th><th scope=col>recommendation_date</th><th scope=col>seed_video_id</th><th scope=col>seed_published_at</th><th scope=col>seed_channel_id</th><th scope=col>category_seed</th><th scope=col>recommended_video_id</th><th scope=col>recommended_published_at</th><th scope=col>recommended_channel_id</th><th scope=col>category_recommended</th><th scope=col>rank</th><th scope=col>...</th><th scope=col>recommended_video_count</th><th scope=col>seed_cumulative_video_count</th><th scope=col>recommended_cumulative_video_count</th><th scope=col>seed_comment_count</th><th scope=col>recommended_comment_count</th><th scope=col>seed_cumulative_comment_count</th><th scope=col>recommended_cumulative_comment_count</th><th scope=col>twitter_graph</th><th scope=col>predicted</th><th scope=col>age_in_days</th></tr>\n",
       "\t<tr><th></th><th scope=col>&lt;date&gt;</th><th scope=col>&lt;chr&gt;</th><th scope=col>&lt;chr&gt;</th><th scope=col>&lt;chr&gt;</th><th scope=col>&lt;fct&gt;</th><th scope=col>&lt;chr&gt;</th><th scope=col>&lt;date&gt;</th><th scope=col>&lt;chr&gt;</th><th scope=col>&lt;fct&gt;</th><th scope=col>&lt;int&gt;</th><th scope=col>...</th><th scope=col>&lt;int&gt;</th><th scope=col>&lt;int&gt;</th><th scope=col>&lt;int&gt;</th><th scope=col>&lt;int&gt;</th><th scope=col>&lt;int&gt;</th><th scope=col>&lt;int&gt;</th><th scope=col>&lt;int&gt;</th><th scope=col>&lt;fct&gt;</th><th scope=col>&lt;chr&gt;</th><th scope=col>&lt;dbl&gt;</th></tr>\n",
       "</thead>\n",
       "<tbody>\n",
       "\t<tr><th scope=row>6224</th><td>2019-11-20</td><td>iXgizwidctM</td><td>2019-11-17 20:01:36.000</td><td>UC65OaKMLtpEUs9BiLSb_u1g</td><td>News &amp; Politics</td><td>ouaJAyolV6I</td><td>2019-11-21</td><td>UC65OaKMLtpEUs9BiLSb_u1g</td><td>News &amp; Politics</td><td>1</td><td>...</td><td> 2</td><td>1620</td><td>1620</td><td> 0</td><td> 0</td><td> 0</td><td> 0</td><td>PRESENT</td><td>PRESENT</td><td>-1</td></tr>\n",
       "\t<tr><th scope=row>18789</th><td>2019-11-20</td><td>AHtjgip-gG8</td><td>2019-11-14 17:37:55.000</td><td>UCYiM773ssvNMaBHvaWWeIoQ</td><td>People &amp; Blogs </td><td>F9a7OVPZESc</td><td>2019-11-21</td><td>UCYiM773ssvNMaBHvaWWeIoQ</td><td>People &amp; Blogs </td><td>1</td><td>...</td><td>19</td><td>6778</td><td>6778</td><td> 0</td><td> 0</td><td> 0</td><td> 0</td><td>PRESENT</td><td>PRESENT</td><td>-1</td></tr>\n",
       "\t<tr><th scope=row>18790</th><td>2019-11-20</td><td>UruJ0sZjp1Q</td><td>2019-11-18 00:34:25.000</td><td>UCYiM773ssvNMaBHvaWWeIoQ</td><td>People &amp; Blogs </td><td>F9a7OVPZESc</td><td>2019-11-21</td><td>UCYiM773ssvNMaBHvaWWeIoQ</td><td>People &amp; Blogs </td><td>1</td><td>...</td><td>19</td><td>6778</td><td>6778</td><td> 0</td><td> 0</td><td> 0</td><td> 0</td><td>PRESENT</td><td>PRESENT</td><td>-1</td></tr>\n",
       "\t<tr><th scope=row>33090</th><td>2020-02-01</td><td>spDfb-yF8z0</td><td>2020-01-29 23:27:29.000</td><td>UCBrntWupyTRnnsRy3dA4VdA</td><td>Education      </td><td>h9xzJo9rWRI</td><td>2020-02-02</td><td>UCBrntWupyTRnnsRy3dA4VdA</td><td>Education      </td><td>4</td><td>...</td><td> 1</td><td> 547</td><td> 547</td><td> 0</td><td> 0</td><td> 0</td><td> 0</td><td>PRESENT</td><td>PRESENT</td><td>-1</td></tr>\n",
       "\t<tr><th scope=row>33474</th><td>2019-11-10</td><td>gNfVPy5VS04</td><td>2019-11-08 16:20:15.000</td><td>UC8DhN1cJi0QklBQot5hv_kg</td><td><span style=white-space:pre-wrap>Education      </span></td><td>AGodCvs5CK8</td><td>2019-11-11</td><td>UCWwZ0vM0qnr3vPHh2lgqH_w</td><td>News &amp; Politics</td><td>5</td><td>...</td><td>NA</td><td><span style=white-space:pre-wrap>  NA</span></td><td><span style=white-space:pre-wrap>  NA</span></td><td>NA</td><td>NA</td><td>NA</td><td>NA</td><td>ABSENT </td><td>PRESENT</td><td>-1</td></tr>\n",
       "\t<tr><th scope=row>35081</th><td>2019-11-10</td><td>V0VvqvOtCMA</td><td>2019-11-10 20:51:14.000</td><td>UCsF4dJCnS72iHzFPvpdhpNA</td><td>News &amp; Politics</td><td>4IL8YjANz5M</td><td>2019-11-11</td><td>UCsF4dJCnS72iHzFPvpdhpNA</td><td>News &amp; Politics</td><td>2</td><td>...</td><td> 0</td><td><span style=white-space:pre-wrap>  12</span></td><td><span style=white-space:pre-wrap>  12</span></td><td> 0</td><td> 0</td><td> 0</td><td> 0</td><td>PRESENT</td><td>PRESENT</td><td>-1</td></tr>\n",
       "\t<tr><th scope=row>35822</th><td>2020-02-01</td><td>Fug5kl_FQPk</td><td>2020-01-30 15:47:08.000</td><td>UCC6f63SXY0CDpsPGDBtTWVg</td><td>News &amp; Politics</td><td>mN8nAnUEJt0</td><td>2020-02-02</td><td>UCVFbXI6Gu8U2f9Gjtxw4A-Q</td><td>News &amp; Politics</td><td>9</td><td>...</td><td> 0</td><td>1302</td><td>2171</td><td> 0</td><td> 0</td><td> 0</td><td> 0</td><td>PRESENT</td><td>PRESENT</td><td>-1</td></tr>\n",
       "\t<tr><th scope=row>39514</th><td>2019-11-09</td><td>4yWlrQRoJro</td><td>2019-11-07 11:34:47.000</td><td>UCRuy5PigeeBuecKnwqhM4yg</td><td>News &amp; Politics</td><td>9kPDYO18YLo</td><td>2019-11-11</td><td>UC-wcdrzucnlKGBjyEUaEWaQ</td><td><span style=white-space:pre-wrap>Entertainment  </span></td><td>8</td><td>...</td><td> 8</td><td>9806</td><td>6743</td><td> 0</td><td> 0</td><td> 0</td><td> 0</td><td>PRESENT</td><td>PRESENT</td><td>-2</td></tr>\n",
       "\t<tr><th scope=row>42514</th><td>2019-11-10</td><td>gNfVPy5VS04</td><td>2019-11-08 16:20:15.000</td><td>UC8DhN1cJi0QklBQot5hv_kg</td><td>Education      </td><td>abO2z2Ff3XM</td><td>2019-11-11</td><td>UC8DhN1cJi0QklBQot5hv_kg</td><td>Education      </td><td>3</td><td>...</td><td>NA</td><td>  NA</td><td>  NA</td><td>NA</td><td>NA</td><td>NA</td><td>NA</td><td>PRESENT</td><td>PRESENT</td><td>-1</td></tr>\n",
       "\t<tr><th scope=row>56762</th><td>2019-11-20</td><td>AZQpwGnH-LM</td><td>2019-11-19 02:51:16.000</td><td>UCYiM773ssvNMaBHvaWWeIoQ</td><td>People &amp; Blogs </td><td>F9a7OVPZESc</td><td>2019-11-21</td><td>UCYiM773ssvNMaBHvaWWeIoQ</td><td>People &amp; Blogs </td><td>1</td><td>...</td><td>19</td><td>6778</td><td>6778</td><td> 0</td><td> 0</td><td> 0</td><td> 0</td><td>PRESENT</td><td>PRESENT</td><td>-1</td></tr>\n",
       "\t<tr><th scope=row>59109</th><td>2019-11-20</td><td>jV1Dx7b5AFg</td><td>2019-11-18 05:11:18.000</td><td>UCYiM773ssvNMaBHvaWWeIoQ</td><td>People &amp; Blogs </td><td>F9a7OVPZESc</td><td>2019-11-21</td><td>UCYiM773ssvNMaBHvaWWeIoQ</td><td>People &amp; Blogs </td><td>1</td><td>...</td><td>19</td><td>6778</td><td>6778</td><td> 0</td><td> 0</td><td> 0</td><td> 0</td><td>PRESENT</td><td>PRESENT</td><td>-1</td></tr>\n",
       "</tbody>\n",
       "</table>\n"
      ],
      "text/latex": [
       "A data.frame: 11 × 34\n",
       "\\begin{tabular}{r|lllllllllllllllllllll}\n",
       "  & recommendation\\_date & seed\\_video\\_id & seed\\_published\\_at & seed\\_channel\\_id & category\\_seed & recommended\\_video\\_id & recommended\\_published\\_at & recommended\\_channel\\_id & category\\_recommended & rank & ... & recommended\\_video\\_count & seed\\_cumulative\\_video\\_count & recommended\\_cumulative\\_video\\_count & seed\\_comment\\_count & recommended\\_comment\\_count & seed\\_cumulative\\_comment\\_count & recommended\\_cumulative\\_comment\\_count & twitter\\_graph & predicted & age\\_in\\_days\\\\\n",
       "  & <date> & <chr> & <chr> & <chr> & <fct> & <chr> & <date> & <chr> & <fct> & <int> & ... & <int> & <int> & <int> & <int> & <int> & <int> & <int> & <fct> & <chr> & <dbl>\\\\\n",
       "\\hline\n",
       "\t6224 & 2019-11-20 & iXgizwidctM & 2019-11-17 20:01:36.000 & UC65OaKMLtpEUs9BiLSb\\_u1g & News \\& Politics & ouaJAyolV6I & 2019-11-21 & UC65OaKMLtpEUs9BiLSb\\_u1g & News \\& Politics & 1 & ... &  2 & 1620 & 1620 &  0 &  0 &  0 &  0 & PRESENT & PRESENT & -1\\\\\n",
       "\t18789 & 2019-11-20 & AHtjgip-gG8 & 2019-11-14 17:37:55.000 & UCYiM773ssvNMaBHvaWWeIoQ & People \\& Blogs  & F9a7OVPZESc & 2019-11-21 & UCYiM773ssvNMaBHvaWWeIoQ & People \\& Blogs  & 1 & ... & 19 & 6778 & 6778 &  0 &  0 &  0 &  0 & PRESENT & PRESENT & -1\\\\\n",
       "\t18790 & 2019-11-20 & UruJ0sZjp1Q & 2019-11-18 00:34:25.000 & UCYiM773ssvNMaBHvaWWeIoQ & People \\& Blogs  & F9a7OVPZESc & 2019-11-21 & UCYiM773ssvNMaBHvaWWeIoQ & People \\& Blogs  & 1 & ... & 19 & 6778 & 6778 &  0 &  0 &  0 &  0 & PRESENT & PRESENT & -1\\\\\n",
       "\t33090 & 2020-02-01 & spDfb-yF8z0 & 2020-01-29 23:27:29.000 & UCBrntWupyTRnnsRy3dA4VdA & Education       & h9xzJo9rWRI & 2020-02-02 & UCBrntWupyTRnnsRy3dA4VdA & Education       & 4 & ... &  1 &  547 &  547 &  0 &  0 &  0 &  0 & PRESENT & PRESENT & -1\\\\\n",
       "\t33474 & 2019-11-10 & gNfVPy5VS04 & 2019-11-08 16:20:15.000 & UC8DhN1cJi0QklBQot5hv\\_kg & Education       & AGodCvs5CK8 & 2019-11-11 & UCWwZ0vM0qnr3vPHh2lgqH\\_w & News \\& Politics & 5 & ... & NA &   NA &   NA & NA & NA & NA & NA & ABSENT  & PRESENT & -1\\\\\n",
       "\t35081 & 2019-11-10 & V0VvqvOtCMA & 2019-11-10 20:51:14.000 & UCsF4dJCnS72iHzFPvpdhpNA & News \\& Politics & 4IL8YjANz5M & 2019-11-11 & UCsF4dJCnS72iHzFPvpdhpNA & News \\& Politics & 2 & ... &  0 &   12 &   12 &  0 &  0 &  0 &  0 & PRESENT & PRESENT & -1\\\\\n",
       "\t35822 & 2020-02-01 & Fug5kl\\_FQPk & 2020-01-30 15:47:08.000 & UCC6f63SXY0CDpsPGDBtTWVg & News \\& Politics & mN8nAnUEJt0 & 2020-02-02 & UCVFbXI6Gu8U2f9Gjtxw4A-Q & News \\& Politics & 9 & ... &  0 & 1302 & 2171 &  0 &  0 &  0 &  0 & PRESENT & PRESENT & -1\\\\\n",
       "\t39514 & 2019-11-09 & 4yWlrQRoJro & 2019-11-07 11:34:47.000 & UCRuy5PigeeBuecKnwqhM4yg & News \\& Politics & 9kPDYO18YLo & 2019-11-11 & UC-wcdrzucnlKGBjyEUaEWaQ & Entertainment   & 8 & ... &  8 & 9806 & 6743 &  0 &  0 &  0 &  0 & PRESENT & PRESENT & -2\\\\\n",
       "\t42514 & 2019-11-10 & gNfVPy5VS04 & 2019-11-08 16:20:15.000 & UC8DhN1cJi0QklBQot5hv\\_kg & Education       & abO2z2Ff3XM & 2019-11-11 & UC8DhN1cJi0QklBQot5hv\\_kg & Education       & 3 & ... & NA &   NA &   NA & NA & NA & NA & NA & PRESENT & PRESENT & -1\\\\\n",
       "\t56762 & 2019-11-20 & AZQpwGnH-LM & 2019-11-19 02:51:16.000 & UCYiM773ssvNMaBHvaWWeIoQ & People \\& Blogs  & F9a7OVPZESc & 2019-11-21 & UCYiM773ssvNMaBHvaWWeIoQ & People \\& Blogs  & 1 & ... & 19 & 6778 & 6778 &  0 &  0 &  0 &  0 & PRESENT & PRESENT & -1\\\\\n",
       "\t59109 & 2019-11-20 & jV1Dx7b5AFg & 2019-11-18 05:11:18.000 & UCYiM773ssvNMaBHvaWWeIoQ & People \\& Blogs  & F9a7OVPZESc & 2019-11-21 & UCYiM773ssvNMaBHvaWWeIoQ & People \\& Blogs  & 1 & ... & 19 & 6778 & 6778 &  0 &  0 &  0 &  0 & PRESENT & PRESENT & -1\\\\\n",
       "\\end{tabular}\n"
      ],
      "text/markdown": [
       "\n",
       "A data.frame: 11 × 34\n",
       "\n",
       "| <!--/--> | recommendation_date &lt;date&gt; | seed_video_id &lt;chr&gt; | seed_published_at &lt;chr&gt; | seed_channel_id &lt;chr&gt; | category_seed &lt;fct&gt; | recommended_video_id &lt;chr&gt; | recommended_published_at &lt;date&gt; | recommended_channel_id &lt;chr&gt; | category_recommended &lt;fct&gt; | rank &lt;int&gt; | ... ... | recommended_video_count &lt;int&gt; | seed_cumulative_video_count &lt;int&gt; | recommended_cumulative_video_count &lt;int&gt; | seed_comment_count &lt;int&gt; | recommended_comment_count &lt;int&gt; | seed_cumulative_comment_count &lt;int&gt; | recommended_cumulative_comment_count &lt;int&gt; | twitter_graph &lt;fct&gt; | predicted &lt;chr&gt; | age_in_days &lt;dbl&gt; |\n",
       "|---|---|---|---|---|---|---|---|---|---|---|---|---|---|---|---|---|---|---|---|---|---|\n",
       "| 6224 | 2019-11-20 | iXgizwidctM | 2019-11-17 20:01:36.000 | UC65OaKMLtpEUs9BiLSb_u1g | News &amp; Politics | ouaJAyolV6I | 2019-11-21 | UC65OaKMLtpEUs9BiLSb_u1g | News &amp; Politics | 1 | ... |  2 | 1620 | 1620 |  0 |  0 |  0 |  0 | PRESENT | PRESENT | -1 |\n",
       "| 18789 | 2019-11-20 | AHtjgip-gG8 | 2019-11-14 17:37:55.000 | UCYiM773ssvNMaBHvaWWeIoQ | People &amp; Blogs  | F9a7OVPZESc | 2019-11-21 | UCYiM773ssvNMaBHvaWWeIoQ | People &amp; Blogs  | 1 | ... | 19 | 6778 | 6778 |  0 |  0 |  0 |  0 | PRESENT | PRESENT | -1 |\n",
       "| 18790 | 2019-11-20 | UruJ0sZjp1Q | 2019-11-18 00:34:25.000 | UCYiM773ssvNMaBHvaWWeIoQ | People &amp; Blogs  | F9a7OVPZESc | 2019-11-21 | UCYiM773ssvNMaBHvaWWeIoQ | People &amp; Blogs  | 1 | ... | 19 | 6778 | 6778 |  0 |  0 |  0 |  0 | PRESENT | PRESENT | -1 |\n",
       "| 33090 | 2020-02-01 | spDfb-yF8z0 | 2020-01-29 23:27:29.000 | UCBrntWupyTRnnsRy3dA4VdA | Education       | h9xzJo9rWRI | 2020-02-02 | UCBrntWupyTRnnsRy3dA4VdA | Education       | 4 | ... |  1 |  547 |  547 |  0 |  0 |  0 |  0 | PRESENT | PRESENT | -1 |\n",
       "| 33474 | 2019-11-10 | gNfVPy5VS04 | 2019-11-08 16:20:15.000 | UC8DhN1cJi0QklBQot5hv_kg | Education       | AGodCvs5CK8 | 2019-11-11 | UCWwZ0vM0qnr3vPHh2lgqH_w | News &amp; Politics | 5 | ... | NA |   NA |   NA | NA | NA | NA | NA | ABSENT  | PRESENT | -1 |\n",
       "| 35081 | 2019-11-10 | V0VvqvOtCMA | 2019-11-10 20:51:14.000 | UCsF4dJCnS72iHzFPvpdhpNA | News &amp; Politics | 4IL8YjANz5M | 2019-11-11 | UCsF4dJCnS72iHzFPvpdhpNA | News &amp; Politics | 2 | ... |  0 |   12 |   12 |  0 |  0 |  0 |  0 | PRESENT | PRESENT | -1 |\n",
       "| 35822 | 2020-02-01 | Fug5kl_FQPk | 2020-01-30 15:47:08.000 | UCC6f63SXY0CDpsPGDBtTWVg | News &amp; Politics | mN8nAnUEJt0 | 2020-02-02 | UCVFbXI6Gu8U2f9Gjtxw4A-Q | News &amp; Politics | 9 | ... |  0 | 1302 | 2171 |  0 |  0 |  0 |  0 | PRESENT | PRESENT | -1 |\n",
       "| 39514 | 2019-11-09 | 4yWlrQRoJro | 2019-11-07 11:34:47.000 | UCRuy5PigeeBuecKnwqhM4yg | News &amp; Politics | 9kPDYO18YLo | 2019-11-11 | UC-wcdrzucnlKGBjyEUaEWaQ | Entertainment   | 8 | ... |  8 | 9806 | 6743 |  0 |  0 |  0 |  0 | PRESENT | PRESENT | -2 |\n",
       "| 42514 | 2019-11-10 | gNfVPy5VS04 | 2019-11-08 16:20:15.000 | UC8DhN1cJi0QklBQot5hv_kg | Education       | abO2z2Ff3XM | 2019-11-11 | UC8DhN1cJi0QklBQot5hv_kg | Education       | 3 | ... | NA |   NA |   NA | NA | NA | NA | NA | PRESENT | PRESENT | -1 |\n",
       "| 56762 | 2019-11-20 | AZQpwGnH-LM | 2019-11-19 02:51:16.000 | UCYiM773ssvNMaBHvaWWeIoQ | People &amp; Blogs  | F9a7OVPZESc | 2019-11-21 | UCYiM773ssvNMaBHvaWWeIoQ | People &amp; Blogs  | 1 | ... | 19 | 6778 | 6778 |  0 |  0 |  0 |  0 | PRESENT | PRESENT | -1 |\n",
       "| 59109 | 2019-11-20 | jV1Dx7b5AFg | 2019-11-18 05:11:18.000 | UCYiM773ssvNMaBHvaWWeIoQ | People &amp; Blogs  | F9a7OVPZESc | 2019-11-21 | UCYiM773ssvNMaBHvaWWeIoQ | People &amp; Blogs  | 1 | ... | 19 | 6778 | 6778 |  0 |  0 |  0 |  0 | PRESENT | PRESENT | -1 |\n",
       "\n"
      ],
      "text/plain": [
       "      recommendation_date seed_video_id seed_published_at      \n",
       "6224  2019-11-20          iXgizwidctM   2019-11-17 20:01:36.000\n",
       "18789 2019-11-20          AHtjgip-gG8   2019-11-14 17:37:55.000\n",
       "18790 2019-11-20          UruJ0sZjp1Q   2019-11-18 00:34:25.000\n",
       "33090 2020-02-01          spDfb-yF8z0   2020-01-29 23:27:29.000\n",
       "33474 2019-11-10          gNfVPy5VS04   2019-11-08 16:20:15.000\n",
       "35081 2019-11-10          V0VvqvOtCMA   2019-11-10 20:51:14.000\n",
       "35822 2020-02-01          Fug5kl_FQPk   2020-01-30 15:47:08.000\n",
       "39514 2019-11-09          4yWlrQRoJro   2019-11-07 11:34:47.000\n",
       "42514 2019-11-10          gNfVPy5VS04   2019-11-08 16:20:15.000\n",
       "56762 2019-11-20          AZQpwGnH-LM   2019-11-19 02:51:16.000\n",
       "59109 2019-11-20          jV1Dx7b5AFg   2019-11-18 05:11:18.000\n",
       "      seed_channel_id          category_seed   recommended_video_id\n",
       "6224  UC65OaKMLtpEUs9BiLSb_u1g News & Politics ouaJAyolV6I         \n",
       "18789 UCYiM773ssvNMaBHvaWWeIoQ People & Blogs  F9a7OVPZESc         \n",
       "18790 UCYiM773ssvNMaBHvaWWeIoQ People & Blogs  F9a7OVPZESc         \n",
       "33090 UCBrntWupyTRnnsRy3dA4VdA Education       h9xzJo9rWRI         \n",
       "33474 UC8DhN1cJi0QklBQot5hv_kg Education       AGodCvs5CK8         \n",
       "35081 UCsF4dJCnS72iHzFPvpdhpNA News & Politics 4IL8YjANz5M         \n",
       "35822 UCC6f63SXY0CDpsPGDBtTWVg News & Politics mN8nAnUEJt0         \n",
       "39514 UCRuy5PigeeBuecKnwqhM4yg News & Politics 9kPDYO18YLo         \n",
       "42514 UC8DhN1cJi0QklBQot5hv_kg Education       abO2z2Ff3XM         \n",
       "56762 UCYiM773ssvNMaBHvaWWeIoQ People & Blogs  F9a7OVPZESc         \n",
       "59109 UCYiM773ssvNMaBHvaWWeIoQ People & Blogs  F9a7OVPZESc         \n",
       "      recommended_published_at recommended_channel_id   category_recommended\n",
       "6224  2019-11-21               UC65OaKMLtpEUs9BiLSb_u1g News & Politics     \n",
       "18789 2019-11-21               UCYiM773ssvNMaBHvaWWeIoQ People & Blogs      \n",
       "18790 2019-11-21               UCYiM773ssvNMaBHvaWWeIoQ People & Blogs      \n",
       "33090 2020-02-02               UCBrntWupyTRnnsRy3dA4VdA Education           \n",
       "33474 2019-11-11               UCWwZ0vM0qnr3vPHh2lgqH_w News & Politics     \n",
       "35081 2019-11-11               UCsF4dJCnS72iHzFPvpdhpNA News & Politics     \n",
       "35822 2020-02-02               UCVFbXI6Gu8U2f9Gjtxw4A-Q News & Politics     \n",
       "39514 2019-11-11               UC-wcdrzucnlKGBjyEUaEWaQ Entertainment       \n",
       "42514 2019-11-11               UC8DhN1cJi0QklBQot5hv_kg Education           \n",
       "56762 2019-11-21               UCYiM773ssvNMaBHvaWWeIoQ People & Blogs      \n",
       "59109 2019-11-21               UCYiM773ssvNMaBHvaWWeIoQ People & Blogs      \n",
       "      rank ... recommended_video_count seed_cumulative_video_count\n",
       "6224  1    ...  2                      1620                       \n",
       "18789 1    ... 19                      6778                       \n",
       "18790 1    ... 19                      6778                       \n",
       "33090 4    ...  1                       547                       \n",
       "33474 5    ... NA                        NA                       \n",
       "35081 2    ...  0                        12                       \n",
       "35822 9    ...  0                      1302                       \n",
       "39514 8    ...  8                      9806                       \n",
       "42514 3    ... NA                        NA                       \n",
       "56762 1    ... 19                      6778                       \n",
       "59109 1    ... 19                      6778                       \n",
       "      recommended_cumulative_video_count seed_comment_count\n",
       "6224  1620                                0                \n",
       "18789 6778                                0                \n",
       "18790 6778                                0                \n",
       "33090  547                                0                \n",
       "33474   NA                               NA                \n",
       "35081   12                                0                \n",
       "35822 2171                                0                \n",
       "39514 6743                                0                \n",
       "42514   NA                               NA                \n",
       "56762 6778                                0                \n",
       "59109 6778                                0                \n",
       "      recommended_comment_count seed_cumulative_comment_count\n",
       "6224   0                         0                           \n",
       "18789  0                         0                           \n",
       "18790  0                         0                           \n",
       "33090  0                         0                           \n",
       "33474 NA                        NA                           \n",
       "35081  0                         0                           \n",
       "35822  0                         0                           \n",
       "39514  0                         0                           \n",
       "42514 NA                        NA                           \n",
       "56762  0                         0                           \n",
       "59109  0                         0                           \n",
       "      recommended_cumulative_comment_count twitter_graph predicted age_in_days\n",
       "6224   0                                   PRESENT       PRESENT   -1         \n",
       "18789  0                                   PRESENT       PRESENT   -1         \n",
       "18790  0                                   PRESENT       PRESENT   -1         \n",
       "33090  0                                   PRESENT       PRESENT   -1         \n",
       "33474 NA                                   ABSENT        PRESENT   -1         \n",
       "35081  0                                   PRESENT       PRESENT   -1         \n",
       "35822  0                                   PRESENT       PRESENT   -1         \n",
       "39514  0                                   PRESENT       PRESENT   -2         \n",
       "42514 NA                                   PRESENT       PRESENT   -1         \n",
       "56762  0                                   PRESENT       PRESENT   -1         \n",
       "59109  0                                   PRESENT       PRESENT   -1         "
      ]
     },
     "metadata": {},
     "output_type": "display_data"
    }
   ],
   "source": [
    "recommendation[recommendation$age_in_days < 0, ]"
   ]
  },
  {
   "cell_type": "code",
   "execution_count": 89,
   "metadata": {},
   "outputs": [
    {
     "data": {
      "text/html": [
       "<table>\n",
       "<caption>A data.frame: 4 × 2</caption>\n",
       "<thead>\n",
       "\t<tr><th></th><th scope=col>recommendation_date</th><th scope=col>recommended_published_at</th></tr>\n",
       "\t<tr><th></th><th scope=col>&lt;date&gt;</th><th scope=col>&lt;date&gt;</th></tr>\n",
       "</thead>\n",
       "<tbody>\n",
       "\t<tr><th scope=row>6224</th><td>2019-11-20</td><td>2019-11-21</td></tr>\n",
       "\t<tr><th scope=row>33090</th><td>2020-02-01</td><td>2020-02-02</td></tr>\n",
       "\t<tr><th scope=row>33474</th><td>2019-11-10</td><td>2019-11-11</td></tr>\n",
       "\t<tr><th scope=row>39514</th><td>2019-11-09</td><td>2019-11-11</td></tr>\n",
       "</tbody>\n",
       "</table>\n"
      ],
      "text/latex": [
       "A data.frame: 4 × 2\n",
       "\\begin{tabular}{r|ll}\n",
       "  & recommendation\\_date & recommended\\_published\\_at\\\\\n",
       "  & <date> & <date>\\\\\n",
       "\\hline\n",
       "\t6224 & 2019-11-20 & 2019-11-21\\\\\n",
       "\t33090 & 2020-02-01 & 2020-02-02\\\\\n",
       "\t33474 & 2019-11-10 & 2019-11-11\\\\\n",
       "\t39514 & 2019-11-09 & 2019-11-11\\\\\n",
       "\\end{tabular}\n"
      ],
      "text/markdown": [
       "\n",
       "A data.frame: 4 × 2\n",
       "\n",
       "| <!--/--> | recommendation_date &lt;date&gt; | recommended_published_at &lt;date&gt; |\n",
       "|---|---|---|\n",
       "| 6224 | 2019-11-20 | 2019-11-21 |\n",
       "| 33090 | 2020-02-01 | 2020-02-02 |\n",
       "| 33474 | 2019-11-10 | 2019-11-11 |\n",
       "| 39514 | 2019-11-09 | 2019-11-11 |\n",
       "\n"
      ],
      "text/plain": [
       "      recommendation_date recommended_published_at\n",
       "6224  2019-11-20          2019-11-21              \n",
       "33090 2020-02-01          2020-02-02              \n",
       "33474 2019-11-10          2019-11-11              \n",
       "39514 2019-11-09          2019-11-11              "
      ]
     },
     "metadata": {},
     "output_type": "display_data"
    }
   ],
   "source": [
    "unique(recommendation[recommendation$age_in_days < 0, c('recommendation_date', 'recommended_published_at')])"
   ]
  },
  {
   "cell_type": "markdown",
   "metadata": {},
   "source": [
    "**They are restricted to three publication dates: 2019-11-11, 2019-11-21, and 2020-02-02. They are also only 11 records. For that reason, it is not worth investigating further.**"
   ]
  },
  {
   "cell_type": "code",
   "execution_count": 94,
   "metadata": {},
   "outputs": [
    {
     "data": {
      "image/png": "[encoded data removed]",
      "text/plain": [
       "Plot with title \"Histogram of recommendation[recommendation$age_in_days >= 0 & recommendation$age_in_days <= 20, \"age_in_days\"]\""
      ]
     },
     "metadata": {
      "image/png": {
       "height": 420,
       "width": 420
      }
     },
     "output_type": "display_data"
    }
   ],
   "source": [
    "hist(recommendation[recommendation$age_in_days >= 0 & recommendation$age_in_days <= 20, 'age_in_days'])"
   ]
  },
  {
   "cell_type": "markdown",
   "metadata": {},
   "source": [
    "**Expected behavior: newer videos are recommended more frequently.**"
   ]
  },
  {
   "cell_type": "markdown",
   "metadata": {},
   "source": [
    "**What is the meaning of the coefficient?**"
   ]
  },
  {
   "cell_type": "code",
   "execution_count": 90,
   "metadata": {},
   "outputs": [
    {
     "data": {
      "text/html": [
       "<table>\n",
       "<caption>A matrix: 2 × 1 of type dbl</caption>\n",
       "<thead>\n",
       "\t<tr><th></th><th scope=col>PRESENT</th></tr>\n",
       "</thead>\n",
       "<tbody>\n",
       "\t<tr><th scope=row>ABSENT</th><td>0</td></tr>\n",
       "\t<tr><th scope=row>PRESENT</th><td>1</td></tr>\n",
       "</tbody>\n",
       "</table>\n"
      ],
      "text/latex": [
       "A matrix: 2 × 1 of type dbl\n",
       "\\begin{tabular}{r|l}\n",
       "  & PRESENT\\\\\n",
       "\\hline\n",
       "\tABSENT & 0\\\\\n",
       "\tPRESENT & 1\\\\\n",
       "\\end{tabular}\n"
      ],
      "text/markdown": [
       "\n",
       "A matrix: 2 × 1 of type dbl\n",
       "\n",
       "| <!--/--> | PRESENT |\n",
       "|---|---|\n",
       "| ABSENT | 0 |\n",
       "| PRESENT | 1 |\n",
       "\n"
      ],
      "text/plain": [
       "        PRESENT\n",
       "ABSENT  0      \n",
       "PRESENT 1      "
      ]
     },
     "metadata": {},
     "output_type": "display_data"
    }
   ],
   "source": [
    "contrasts(recommendation$twitter_graph)"
   ]
  },
  {
   "cell_type": "markdown",
   "metadata": {},
   "source": [
    "The coefficient is negative. Therefore, the odds of a recommendation being PRESENT in the Twitter_graph is inversely proportional to the age in days. **Older videos tend to be ABSENT in the `twitter_graph`.**"
   ]
  },
  {
   "cell_type": "code",
   "execution_count": 99,
   "metadata": {},
   "outputs": [
    {
     "name": "stderr",
     "output_type": "stream",
     "text": [
      "Warning message:\n",
      "\"glm.fit: fitted probabilities numerically 0 or 1 occurred\"\n"
     ]
    },
    {
     "data": {
      "text/plain": [
       "\n",
       "Call:\n",
       "glm(formula = twitter_graph ~ category_recommended * age_in_days, \n",
       "    family = binomial, data = recommendation[train, ])\n",
       "\n",
       "Deviance Residuals: \n",
       "    Min       1Q   Median       3Q      Max  \n",
       "-2.5061   0.2976   0.2983   0.5272   4.2228  \n",
       "\n",
       "Coefficients:\n",
       "                                                        Estimate Std. Error\n",
       "(Intercept)                                           -3.9991602  0.9402838\n",
       "category_recommendedComedy                             5.3322056  0.9458258\n",
       "category_recommendedEducation                          4.1732652  0.9428958\n",
       "category_recommendedEntertainment                      5.2825655  0.9408108\n",
       "category_recommendedFilm & Animation                   5.7938930  0.9536716\n",
       "category_recommendedGaming                             1.1424346  1.2159175\n",
       "category_recommendedHowto & Style                      2.8418605  1.0748916\n",
       "category_recommendedMusic                              4.3238721  0.9490597\n",
       "category_recommendedNews & Politics                    7.0952039  0.9409028\n",
       "category_recommendedNonprofits & Activism              4.7111233  0.9507387\n",
       "category_recommendedPeople & Blogs                     5.9131048  0.9409376\n",
       "category_recommendedPets & Animals                     7.1297767  0.9779111\n",
       "category_recommendedScience & Technology               3.8209091  0.9473026\n",
       "category_recommendedSports                             2.5902870  0.9477136\n",
       "category_recommendedTravel & Events                    2.3211837  1.4214180\n",
       "age_in_days                                            0.0004057  0.0010585\n",
       "category_recommendedComedy:age_in_days                -0.0016090  0.0010703\n",
       "category_recommendedEducation:age_in_days             -0.0013617  0.0010670\n",
       "category_recommendedEntertainment:age_in_days         -0.0013243  0.0010594\n",
       "category_recommendedFilm & Animation:age_in_days      -0.0064592  0.0018095\n",
       "category_recommendedGaming:age_in_days                -0.0316651  0.0633807\n",
       "category_recommendedHowto & Style:age_in_days         -0.0025315  0.0020763\n",
       "category_recommendedMusic:age_in_days                 -0.0030316  0.0011006\n",
       "category_recommendedNews & Politics:age_in_days       -0.0015899  0.0010592\n",
       "category_recommendedNonprofits & Activism:age_in_days -0.0021471  0.0010959\n",
       "category_recommendedPeople & Blogs:age_in_days        -0.0030558  0.0010608\n",
       "category_recommendedPets & Animals:age_in_days        -0.0209046  0.0051127\n",
       "category_recommendedScience & Technology:age_in_days  -0.0017434  0.0010726\n",
       "category_recommendedSports:age_in_days                -0.0006995  0.0010710\n",
       "category_recommendedTravel & Events:age_in_days       -0.0628231  0.0540400\n",
       "                                                      z value Pr(>|z|)    \n",
       "(Intercept)                                            -4.253 2.11e-05 ***\n",
       "category_recommendedComedy                              5.638 1.72e-08 ***\n",
       "category_recommendedEducation                           4.426 9.60e-06 ***\n",
       "category_recommendedEntertainment                       5.615 1.97e-08 ***\n",
       "category_recommendedFilm & Animation                    6.075 1.24e-09 ***\n",
       "category_recommendedGaming                              0.940 0.347440    \n",
       "category_recommendedHowto & Style                       2.644 0.008197 ** \n",
       "category_recommendedMusic                               4.556 5.21e-06 ***\n",
       "category_recommendedNews & Politics                     7.541 4.67e-14 ***\n",
       "category_recommendedNonprofits & Activism               4.955 7.22e-07 ***\n",
       "category_recommendedPeople & Blogs                      6.284 3.29e-10 ***\n",
       "category_recommendedPets & Animals                      7.291 3.08e-13 ***\n",
       "category_recommendedScience & Technology                4.033 5.50e-05 ***\n",
       "category_recommendedSports                              2.733 0.006272 ** \n",
       "category_recommendedTravel & Events                     1.633 0.102468    \n",
       "age_in_days                                             0.383 0.701498    \n",
       "category_recommendedComedy:age_in_days                 -1.503 0.132748    \n",
       "category_recommendedEducation:age_in_days              -1.276 0.201879    \n",
       "category_recommendedEntertainment:age_in_days          -1.250 0.211290    \n",
       "category_recommendedFilm & Animation:age_in_days       -3.570 0.000358 ***\n",
       "category_recommendedGaming:age_in_days                 -0.500 0.617355    \n",
       "category_recommendedHowto & Style:age_in_days          -1.219 0.222768    \n",
       "category_recommendedMusic:age_in_days                  -2.754 0.005879 ** \n",
       "category_recommendedNews & Politics:age_in_days        -1.501 0.133372    \n",
       "category_recommendedNonprofits & Activism:age_in_days  -1.959 0.050095 .  \n",
       "category_recommendedPeople & Blogs:age_in_days         -2.881 0.003968 ** \n",
       "category_recommendedPets & Animals:age_in_days         -4.089 4.34e-05 ***\n",
       "category_recommendedScience & Technology:age_in_days   -1.625 0.104087    \n",
       "category_recommendedSports:age_in_days                 -0.653 0.513648    \n",
       "category_recommendedTravel & Events:age_in_days        -1.163 0.245021    \n",
       "---\n",
       "Signif. codes:  0 '***' 0.001 '**' 0.01 '*' 0.05 '.' 0.1 ' ' 1\n",
       "\n",
       "(Dispersion parameter for binomial family taken to be 1)\n",
       "\n",
       "    Null deviance: 42502  on 42722  degrees of freedom\n",
       "Residual deviance: 29506  on 42693  degrees of freedom\n",
       "AIC: 29566\n",
       "\n",
       "Number of Fisher Scoring iterations: 12\n"
      ]
     },
     "metadata": {},
     "output_type": "display_data"
    }
   ],
   "source": [
    "glm.model <- glm(twitter_graph~category_recommended*age_in_days, data=recommendation[train,], family=binomial)\n",
    "summary(glm.model)"
   ]
  },
  {
   "cell_type": "code",
   "execution_count": 100,
   "metadata": {},
   "outputs": [
    {
     "data": {
      "text/plain": [
       "         \n",
       "          ABSENT PRESENT\n",
       "  ABSENT    3609    4844\n",
       "  PRESENT    969   33301"
      ]
     },
     "metadata": {},
     "output_type": "display_data"
    },
    {
     "data": {
      "text/plain": [
       "         \n",
       "          ABSENT PRESENT\n",
       "  ABSENT   0.084   0.113\n",
       "  PRESENT  0.023   0.779"
      ]
     },
     "metadata": {},
     "output_type": "display_data"
    },
    {
     "name": "stdout",
     "output_type": "stream",
     "text": [
      "[1] \"Accuracy:\"\n"
     ]
    },
    {
     "data": {
      "text/html": [
       "0.863937457575545"
      ],
      "text/latex": [
       "0.863937457575545"
      ],
      "text/markdown": [
       "0.863937457575545"
      ],
      "text/plain": [
       "[1] 0.8639375"
      ]
     },
     "metadata": {},
     "output_type": "display_data"
    }
   ],
   "source": [
    "glm.probabilities <- predict(glm.model, recommendation[train,], type=\"response\")\n",
    "recommendation[train, 'predicted'] <- ifelse(glm.probabilities < .5,\n",
    "                                             levels(recommendation$twitter_graph)[1],\n",
    "                                             levels(recommendation$twitter_graph)[2])\n",
    "classification.table <- table(recommendation[train, 'twitter_graph'], recommendation[train,'predicted'])\n",
    "classification.table\n",
    "round(classification.table/nrow(recommendation[train,]),3)\n",
    "print('Accuracy:')\n",
    "sum(diag(classification.table))/sum(classification.table)"
   ]
  },
  {
   "cell_type": "code",
   "execution_count": 157,
   "metadata": {},
   "outputs": [
    {
     "data": {
      "text/plain": [
       "         \n",
       "          ABSENT PRESENT\n",
       "  ABSENT    1560    2037\n",
       "  PRESENT    444   14268"
      ]
     },
     "metadata": {},
     "output_type": "display_data"
    },
    {
     "data": {
      "text/plain": [
       "         \n",
       "          ABSENT PRESENT\n",
       "  ABSENT   0.085   0.111\n",
       "  PRESENT  0.024   0.779"
      ]
     },
     "metadata": {},
     "output_type": "display_data"
    },
    {
     "name": "stdout",
     "output_type": "stream",
     "text": [
      "[1] \"Accuracy:\"\n"
     ]
    },
    {
     "data": {
      "text/html": [
       "0.864492872357857"
      ],
      "text/latex": [
       "0.864492872357857"
      ],
      "text/markdown": [
       "0.864492872357857"
      ],
      "text/plain": [
       "[1] 0.8644929"
      ]
     },
     "metadata": {},
     "output_type": "display_data"
    }
   ],
   "source": [
    "glm.probabilities <- predict(glm.model, recommendation[test,], type=\"response\")\n",
    "recommendation[test, 'predicted'] <- ifelse(glm.probabilities < .5,\n",
    "                                            levels(recommendation$twitter_graph)[1],\n",
    "                                            levels(recommendation$twitter_graph)[2])\n",
    "classification.table <- table(recommendation[test, 'twitter_graph'], recommendation[test,'predicted'])\n",
    "classification.table\n",
    "round(classification.table/nrow(recommendation[test,]),3)\n",
    "print('Accuracy:')\n",
    "sum(diag(classification.table))/sum(classification.table)"
   ]
  },
  {
   "cell_type": "markdown",
   "metadata": {},
   "source": [
    "Let's investigate error **\"glm.fit: fitted probabilities numerically 0 or 1 occurred\"**."
   ]
  },
  {
   "cell_type": "code",
   "execution_count": 137,
   "metadata": {},
   "outputs": [
    {
     "data": {
      "text/html": [
       "0.958138125698805"
      ],
      "text/latex": [
       "0.958138125698805"
      ],
      "text/markdown": [
       "0.958138125698805"
      ],
      "text/plain": [
       "[1] 0.9581381"
      ]
     },
     "metadata": {},
     "output_type": "display_data"
    }
   ],
   "source": [
    "max(glm.probabilities)"
   ]
  },
  {
   "cell_type": "code",
   "execution_count": 138,
   "metadata": {},
   "outputs": [
    {
     "data": {
      "text/html": [
       "2.22044604925031e-16"
      ],
      "text/latex": [
       "2.22044604925031e-16"
      ],
      "text/markdown": [
       "2.22044604925031e-16"
      ],
      "text/plain": [
       "[1] 2.220446e-16"
      ]
     },
     "metadata": {},
     "output_type": "display_data"
    }
   ],
   "source": [
    "min(glm.probabilities)"
   ]
  },
  {
   "cell_type": "markdown",
   "metadata": {},
   "source": [
    "The warning was prompted by probabilities very close to 0. Let's see who they are."
   ]
  },
  {
   "cell_type": "code",
   "execution_count": 156,
   "metadata": {},
   "outputs": [
    {
     "data": {
      "text/html": [
       "<table>\n",
       "<caption>A data.frame: 96 × 5</caption>\n",
       "<thead>\n",
       "\t<tr><th></th><th scope=col>category_seed</th><th scope=col>category_recommended</th><th scope=col>age_in_days</th><th scope=col>twitter_graph</th><th scope=col>predicted</th></tr>\n",
       "\t<tr><th></th><th scope=col>&lt;fct&gt;</th><th scope=col>&lt;fct&gt;</th><th scope=col>&lt;dbl&gt;</th><th scope=col>&lt;fct&gt;</th><th scope=col>&lt;chr&gt;</th></tr>\n",
       "</thead>\n",
       "<tbody>\n",
       "\t<tr><th scope=row>34</th><td>News &amp; Politics</td><td>Pets &amp; Animals</td><td>3755</td><td>ABSENT</td><td>ABSENT</td></tr>\n",
       "\t<tr><th scope=row>2766</th><td>News &amp; Politics</td><td><span style=white-space:pre-wrap>Gaming        </span></td><td> 916</td><td>ABSENT</td><td>ABSENT</td></tr>\n",
       "\t<tr><th scope=row>3547</th><td>News &amp; Politics</td><td><span style=white-space:pre-wrap>Gaming        </span></td><td> 921</td><td>ABSENT</td><td>ABSENT</td></tr>\n",
       "\t<tr><th scope=row>4132</th><td>News &amp; Politics</td><td><span style=white-space:pre-wrap>Gaming        </span></td><td> 934</td><td>ABSENT</td><td>ABSENT</td></tr>\n",
       "\t<tr><th scope=row>5268</th><td>News &amp; Politics</td><td><span style=white-space:pre-wrap>Gaming        </span></td><td> 893</td><td>ABSENT</td><td>ABSENT</td></tr>\n",
       "\t<tr><th scope=row>5270</th><td>News &amp; Politics</td><td><span style=white-space:pre-wrap>Gaming        </span></td><td> 893</td><td>ABSENT</td><td>ABSENT</td></tr>\n",
       "\t<tr><th scope=row>5638</th><td>News &amp; Politics</td><td><span style=white-space:pre-wrap>Gaming        </span></td><td> 900</td><td>ABSENT</td><td>ABSENT</td></tr>\n",
       "\t<tr><th scope=row>6448</th><td>News &amp; Politics</td><td><span style=white-space:pre-wrap>Gaming        </span></td><td> 911</td><td>ABSENT</td><td>ABSENT</td></tr>\n",
       "\t<tr><th scope=row>6451</th><td>News &amp; Politics</td><td><span style=white-space:pre-wrap>Gaming        </span></td><td> 923</td><td>ABSENT</td><td>ABSENT</td></tr>\n",
       "\t<tr><th scope=row>8340</th><td>News &amp; Politics</td><td>Pets &amp; Animals</td><td>2805</td><td>ABSENT</td><td>ABSENT</td></tr>\n",
       "\t<tr><th scope=row>9695</th><td>News &amp; Politics</td><td><span style=white-space:pre-wrap>Gaming        </span></td><td> 923</td><td>ABSENT</td><td>ABSENT</td></tr>\n",
       "\t<tr><th scope=row>11491</th><td>Comedy         </td><td>Gaming        </td><td> 923</td><td>ABSENT</td><td>ABSENT</td></tr>\n",
       "\t<tr><th scope=row>13371</th><td>Entertainment  </td><td>Gaming        </td><td> 911</td><td>ABSENT</td><td>ABSENT</td></tr>\n",
       "\t<tr><th scope=row>13385</th><td>News &amp; Politics</td><td><span style=white-space:pre-wrap>Gaming        </span></td><td> 894</td><td>ABSENT</td><td>ABSENT</td></tr>\n",
       "\t<tr><th scope=row>14321</th><td>News &amp; Politics</td><td><span style=white-space:pre-wrap>Gaming        </span></td><td> 928</td><td>ABSENT</td><td>ABSENT</td></tr>\n",
       "\t<tr><th scope=row>14344</th><td>News &amp; Politics</td><td><span style=white-space:pre-wrap>Gaming        </span></td><td> 908</td><td>ABSENT</td><td>ABSENT</td></tr>\n",
       "\t<tr><th scope=row>14346</th><td>News &amp; Politics</td><td><span style=white-space:pre-wrap>Gaming        </span></td><td> 894</td><td>ABSENT</td><td>ABSENT</td></tr>\n",
       "\t<tr><th scope=row>15091</th><td>News &amp; Politics</td><td><span style=white-space:pre-wrap>Gaming        </span></td><td> 928</td><td>ABSENT</td><td>ABSENT</td></tr>\n",
       "\t<tr><th scope=row>16059</th><td>News &amp; Politics</td><td><span style=white-space:pre-wrap>Gaming        </span></td><td> 981</td><td>ABSENT</td><td>ABSENT</td></tr>\n",
       "\t<tr><th scope=row>17453</th><td>News &amp; Politics</td><td><span style=white-space:pre-wrap>Gaming        </span></td><td>1030</td><td>ABSENT</td><td>ABSENT</td></tr>\n",
       "\t<tr><th scope=row>17733</th><td>Entertainment  </td><td>Gaming        </td><td>1049</td><td>ABSENT</td><td>ABSENT</td></tr>\n",
       "\t<tr><th scope=row>18957</th><td>People &amp; Blogs </td><td><span style=white-space:pre-wrap>Gaming        </span></td><td> 910</td><td>ABSENT</td><td>ABSENT</td></tr>\n",
       "\t<tr><th scope=row>18994</th><td>People &amp; Blogs </td><td><span style=white-space:pre-wrap>Gaming        </span></td><td> 911</td><td>ABSENT</td><td>ABSENT</td></tr>\n",
       "\t<tr><th scope=row>30513</th><td><span style=white-space:pre-wrap>Entertainment  </span></td><td>Pets &amp; Animals</td><td>2566</td><td>ABSENT</td><td>ABSENT</td></tr>\n",
       "\t<tr><th scope=row>32042</th><td>News &amp; Politics</td><td><span style=white-space:pre-wrap>Gaming        </span></td><td> 892</td><td>ABSENT</td><td>ABSENT</td></tr>\n",
       "\t<tr><th scope=row>32101</th><td>News &amp; Politics</td><td><span style=white-space:pre-wrap>Gaming        </span></td><td> 925</td><td>ABSENT</td><td>ABSENT</td></tr>\n",
       "\t<tr><th scope=row>32117</th><td>News &amp; Politics</td><td><span style=white-space:pre-wrap>Gaming        </span></td><td> 980</td><td>ABSENT</td><td>ABSENT</td></tr>\n",
       "\t<tr><th scope=row>32130</th><td>News &amp; Politics</td><td><span style=white-space:pre-wrap>Gaming        </span></td><td> 904</td><td>ABSENT</td><td>ABSENT</td></tr>\n",
       "\t<tr><th scope=row>32274</th><td>News &amp; Politics</td><td><span style=white-space:pre-wrap>Gaming        </span></td><td> 895</td><td>ABSENT</td><td>ABSENT</td></tr>\n",
       "\t<tr><th scope=row>32283</th><td>News &amp; Politics</td><td><span style=white-space:pre-wrap>Gaming        </span></td><td> 912</td><td>ABSENT</td><td>ABSENT</td></tr>\n",
       "\t<tr><th scope=row>...</th><td>...</td><td>...</td><td>...</td><td>...</td><td>...</td></tr>\n",
       "\t<tr><th scope=row>54619</th><td><span style=white-space:pre-wrap>People &amp; Blogs       </span></td><td><span style=white-space:pre-wrap>Gaming         </span></td><td> 891</td><td>ABSENT</td><td>ABSENT</td></tr>\n",
       "\t<tr><th scope=row>56703</th><td><span style=white-space:pre-wrap>People &amp; Blogs       </span></td><td>Pets &amp; Animals </td><td>2767</td><td>ABSENT</td><td>ABSENT</td></tr>\n",
       "\t<tr><th scope=row>57675</th><td><span style=white-space:pre-wrap>People &amp; Blogs       </span></td><td>Pets &amp; Animals </td><td>3748</td><td>ABSENT</td><td>ABSENT</td></tr>\n",
       "\t<tr><th scope=row>58046</th><td><span style=white-space:pre-wrap>People &amp; Blogs       </span></td><td>Pets &amp; Animals </td><td>2777</td><td>ABSENT</td><td>ABSENT</td></tr>\n",
       "\t<tr><th scope=row>58064</th><td><span style=white-space:pre-wrap>People &amp; Blogs       </span></td><td>Pets &amp; Animals </td><td>3165</td><td>ABSENT</td><td>ABSENT</td></tr>\n",
       "\t<tr><th scope=row>59530</th><td><span style=white-space:pre-wrap>People &amp; Blogs       </span></td><td><span style=white-space:pre-wrap>Gaming         </span></td><td> 905</td><td>ABSENT</td><td>ABSENT</td></tr>\n",
       "\t<tr><th scope=row>59705</th><td><span style=white-space:pre-wrap>People &amp; Blogs       </span></td><td><span style=white-space:pre-wrap>Gaming         </span></td><td>1041</td><td>ABSENT</td><td>ABSENT</td></tr>\n",
       "\t<tr><th scope=row>60289</th><td>Nonprofits &amp; Activism</td><td>Travel &amp; Events</td><td>2397</td><td>ABSENT</td><td>ABSENT</td></tr>\n",
       "\t<tr><th scope=row>60293</th><td><span style=white-space:pre-wrap>Entertainment        </span></td><td>Travel &amp; Events</td><td> 562</td><td>ABSENT</td><td>ABSENT</td></tr>\n",
       "\t<tr><th scope=row>60299</th><td><span style=white-space:pre-wrap>News &amp; Politics      </span></td><td>Travel &amp; Events</td><td> 563</td><td>ABSENT</td><td>ABSENT</td></tr>\n",
       "\t<tr><th scope=row>60300</th><td><span style=white-space:pre-wrap>News &amp; Politics      </span></td><td>Travel &amp; Events</td><td>1169</td><td>ABSENT</td><td>ABSENT</td></tr>\n",
       "\t<tr><th scope=row>60301</th><td><span style=white-space:pre-wrap>News &amp; Politics      </span></td><td>Travel &amp; Events</td><td> 729</td><td>ABSENT</td><td>ABSENT</td></tr>\n",
       "\t<tr><th scope=row>60304</th><td><span style=white-space:pre-wrap>News &amp; Politics      </span></td><td>Travel &amp; Events</td><td>2574</td><td>ABSENT</td><td>ABSENT</td></tr>\n",
       "\t<tr><th scope=row>60305</th><td><span style=white-space:pre-wrap>News &amp; Politics      </span></td><td>Travel &amp; Events</td><td>2155</td><td>ABSENT</td><td>ABSENT</td></tr>\n",
       "\t<tr><th scope=row>60309</th><td><span style=white-space:pre-wrap>News &amp; Politics      </span></td><td>Travel &amp; Events</td><td>1041</td><td>ABSENT</td><td>ABSENT</td></tr>\n",
       "\t<tr><th scope=row>60313</th><td><span style=white-space:pre-wrap>News &amp; Politics      </span></td><td>Travel &amp; Events</td><td>2083</td><td>ABSENT</td><td>ABSENT</td></tr>\n",
       "\t<tr><th scope=row>60314</th><td><span style=white-space:pre-wrap>News &amp; Politics      </span></td><td>Travel &amp; Events</td><td> 785</td><td>ABSENT</td><td>ABSENT</td></tr>\n",
       "\t<tr><th scope=row>60316</th><td><span style=white-space:pre-wrap>People &amp; Blogs       </span></td><td>Travel &amp; Events</td><td> 728</td><td>ABSENT</td><td>ABSENT</td></tr>\n",
       "\t<tr><th scope=row>60818</th><td><span style=white-space:pre-wrap>Education            </span></td><td>Travel &amp; Events</td><td> 963</td><td>ABSENT</td><td>ABSENT</td></tr>\n",
       "\t<tr><th scope=row>60825</th><td><span style=white-space:pre-wrap>News &amp; Politics      </span></td><td>Travel &amp; Events</td><td>1284</td><td>ABSENT</td><td>ABSENT</td></tr>\n",
       "\t<tr><th scope=row>60828</th><td><span style=white-space:pre-wrap>People &amp; Blogs       </span></td><td>Travel &amp; Events</td><td> 762</td><td>ABSENT</td><td>ABSENT</td></tr>\n",
       "\t<tr><th scope=row>60893</th><td><span style=white-space:pre-wrap>News &amp; Politics      </span></td><td>Travel &amp; Events</td><td>1348</td><td>ABSENT</td><td>ABSENT</td></tr>\n",
       "\t<tr><th scope=row>60894</th><td><span style=white-space:pre-wrap>News &amp; Politics      </span></td><td>Travel &amp; Events</td><td>1217</td><td>ABSENT</td><td>ABSENT</td></tr>\n",
       "\t<tr><th scope=row>60897</th><td><span style=white-space:pre-wrap>News &amp; Politics      </span></td><td>Travel &amp; Events</td><td>2040</td><td>ABSENT</td><td>ABSENT</td></tr>\n",
       "\t<tr><th scope=row>60900</th><td><span style=white-space:pre-wrap>People &amp; Blogs       </span></td><td>Travel &amp; Events</td><td>2386</td><td>ABSENT</td><td>ABSENT</td></tr>\n",
       "\t<tr><th scope=row>60905</th><td><span style=white-space:pre-wrap>People &amp; Blogs       </span></td><td>Travel &amp; Events</td><td>1405</td><td>ABSENT</td><td>ABSENT</td></tr>\n",
       "\t<tr><th scope=row>60910</th><td><span style=white-space:pre-wrap>People &amp; Blogs       </span></td><td>Travel &amp; Events</td><td>1315</td><td>ABSENT</td><td>ABSENT</td></tr>\n",
       "\t<tr><th scope=row>60915</th><td><span style=white-space:pre-wrap>Film &amp; Animation     </span></td><td>Travel &amp; Events</td><td>1797</td><td>ABSENT</td><td>ABSENT</td></tr>\n",
       "\t<tr><th scope=row>60916</th><td><span style=white-space:pre-wrap>Comedy               </span></td><td>Travel &amp; Events</td><td> 454</td><td>ABSENT</td><td>ABSENT</td></tr>\n",
       "\t<tr><th scope=row>60931</th><td><span style=white-space:pre-wrap>People &amp; Blogs       </span></td><td>Travel &amp; Events</td><td>1035</td><td>ABSENT</td><td>ABSENT</td></tr>\n",
       "</tbody>\n",
       "</table>\n"
      ],
      "text/latex": [
       "A data.frame: 96 × 5\n",
       "\\begin{tabular}{r|lllll}\n",
       "  & category\\_seed & category\\_recommended & age\\_in\\_days & twitter\\_graph & predicted\\\\\n",
       "  & <fct> & <fct> & <dbl> & <fct> & <chr>\\\\\n",
       "\\hline\n",
       "\t34 & News \\& Politics & Pets \\& Animals & 3755 & ABSENT & ABSENT\\\\\n",
       "\t2766 & News \\& Politics & Gaming         &  916 & ABSENT & ABSENT\\\\\n",
       "\t3547 & News \\& Politics & Gaming         &  921 & ABSENT & ABSENT\\\\\n",
       "\t4132 & News \\& Politics & Gaming         &  934 & ABSENT & ABSENT\\\\\n",
       "\t5268 & News \\& Politics & Gaming         &  893 & ABSENT & ABSENT\\\\\n",
       "\t5270 & News \\& Politics & Gaming         &  893 & ABSENT & ABSENT\\\\\n",
       "\t5638 & News \\& Politics & Gaming         &  900 & ABSENT & ABSENT\\\\\n",
       "\t6448 & News \\& Politics & Gaming         &  911 & ABSENT & ABSENT\\\\\n",
       "\t6451 & News \\& Politics & Gaming         &  923 & ABSENT & ABSENT\\\\\n",
       "\t8340 & News \\& Politics & Pets \\& Animals & 2805 & ABSENT & ABSENT\\\\\n",
       "\t9695 & News \\& Politics & Gaming         &  923 & ABSENT & ABSENT\\\\\n",
       "\t11491 & Comedy          & Gaming         &  923 & ABSENT & ABSENT\\\\\n",
       "\t13371 & Entertainment   & Gaming         &  911 & ABSENT & ABSENT\\\\\n",
       "\t13385 & News \\& Politics & Gaming         &  894 & ABSENT & ABSENT\\\\\n",
       "\t14321 & News \\& Politics & Gaming         &  928 & ABSENT & ABSENT\\\\\n",
       "\t14344 & News \\& Politics & Gaming         &  908 & ABSENT & ABSENT\\\\\n",
       "\t14346 & News \\& Politics & Gaming         &  894 & ABSENT & ABSENT\\\\\n",
       "\t15091 & News \\& Politics & Gaming         &  928 & ABSENT & ABSENT\\\\\n",
       "\t16059 & News \\& Politics & Gaming         &  981 & ABSENT & ABSENT\\\\\n",
       "\t17453 & News \\& Politics & Gaming         & 1030 & ABSENT & ABSENT\\\\\n",
       "\t17733 & Entertainment   & Gaming         & 1049 & ABSENT & ABSENT\\\\\n",
       "\t18957 & People \\& Blogs  & Gaming         &  910 & ABSENT & ABSENT\\\\\n",
       "\t18994 & People \\& Blogs  & Gaming         &  911 & ABSENT & ABSENT\\\\\n",
       "\t30513 & Entertainment   & Pets \\& Animals & 2566 & ABSENT & ABSENT\\\\\n",
       "\t32042 & News \\& Politics & Gaming         &  892 & ABSENT & ABSENT\\\\\n",
       "\t32101 & News \\& Politics & Gaming         &  925 & ABSENT & ABSENT\\\\\n",
       "\t32117 & News \\& Politics & Gaming         &  980 & ABSENT & ABSENT\\\\\n",
       "\t32130 & News \\& Politics & Gaming         &  904 & ABSENT & ABSENT\\\\\n",
       "\t32274 & News \\& Politics & Gaming         &  895 & ABSENT & ABSENT\\\\\n",
       "\t32283 & News \\& Politics & Gaming         &  912 & ABSENT & ABSENT\\\\\n",
       "\t... & ... & ... & ... & ... & ...\\\\\n",
       "\t54619 & People \\& Blogs        & Gaming          &  891 & ABSENT & ABSENT\\\\\n",
       "\t56703 & People \\& Blogs        & Pets \\& Animals  & 2767 & ABSENT & ABSENT\\\\\n",
       "\t57675 & People \\& Blogs        & Pets \\& Animals  & 3748 & ABSENT & ABSENT\\\\\n",
       "\t58046 & People \\& Blogs        & Pets \\& Animals  & 2777 & ABSENT & ABSENT\\\\\n",
       "\t58064 & People \\& Blogs        & Pets \\& Animals  & 3165 & ABSENT & ABSENT\\\\\n",
       "\t59530 & People \\& Blogs        & Gaming          &  905 & ABSENT & ABSENT\\\\\n",
       "\t59705 & People \\& Blogs        & Gaming          & 1041 & ABSENT & ABSENT\\\\\n",
       "\t60289 & Nonprofits \\& Activism & Travel \\& Events & 2397 & ABSENT & ABSENT\\\\\n",
       "\t60293 & Entertainment         & Travel \\& Events &  562 & ABSENT & ABSENT\\\\\n",
       "\t60299 & News \\& Politics       & Travel \\& Events &  563 & ABSENT & ABSENT\\\\\n",
       "\t60300 & News \\& Politics       & Travel \\& Events & 1169 & ABSENT & ABSENT\\\\\n",
       "\t60301 & News \\& Politics       & Travel \\& Events &  729 & ABSENT & ABSENT\\\\\n",
       "\t60304 & News \\& Politics       & Travel \\& Events & 2574 & ABSENT & ABSENT\\\\\n",
       "\t60305 & News \\& Politics       & Travel \\& Events & 2155 & ABSENT & ABSENT\\\\\n",
       "\t60309 & News \\& Politics       & Travel \\& Events & 1041 & ABSENT & ABSENT\\\\\n",
       "\t60313 & News \\& Politics       & Travel \\& Events & 2083 & ABSENT & ABSENT\\\\\n",
       "\t60314 & News \\& Politics       & Travel \\& Events &  785 & ABSENT & ABSENT\\\\\n",
       "\t60316 & People \\& Blogs        & Travel \\& Events &  728 & ABSENT & ABSENT\\\\\n",
       "\t60818 & Education             & Travel \\& Events &  963 & ABSENT & ABSENT\\\\\n",
       "\t60825 & News \\& Politics       & Travel \\& Events & 1284 & ABSENT & ABSENT\\\\\n",
       "\t60828 & People \\& Blogs        & Travel \\& Events &  762 & ABSENT & ABSENT\\\\\n",
       "\t60893 & News \\& Politics       & Travel \\& Events & 1348 & ABSENT & ABSENT\\\\\n",
       "\t60894 & News \\& Politics       & Travel \\& Events & 1217 & ABSENT & ABSENT\\\\\n",
       "\t60897 & News \\& Politics       & Travel \\& Events & 2040 & ABSENT & ABSENT\\\\\n",
       "\t60900 & People \\& Blogs        & Travel \\& Events & 2386 & ABSENT & ABSENT\\\\\n",
       "\t60905 & People \\& Blogs        & Travel \\& Events & 1405 & ABSENT & ABSENT\\\\\n",
       "\t60910 & People \\& Blogs        & Travel \\& Events & 1315 & ABSENT & ABSENT\\\\\n",
       "\t60915 & Film \\& Animation      & Travel \\& Events & 1797 & ABSENT & ABSENT\\\\\n",
       "\t60916 & Comedy                & Travel \\& Events &  454 & ABSENT & ABSENT\\\\\n",
       "\t60931 & People \\& Blogs        & Travel \\& Events & 1035 & ABSENT & ABSENT\\\\\n",
       "\\end{tabular}\n"
      ],
      "text/markdown": [
       "\n",
       "A data.frame: 96 × 5\n",
       "\n",
       "| <!--/--> | category_seed &lt;fct&gt; | category_recommended &lt;fct&gt; | age_in_days &lt;dbl&gt; | twitter_graph &lt;fct&gt; | predicted &lt;chr&gt; |\n",
       "|---|---|---|---|---|---|\n",
       "| 34 | News &amp; Politics | Pets &amp; Animals | 3755 | ABSENT | ABSENT |\n",
       "| 2766 | News &amp; Politics | Gaming         |  916 | ABSENT | ABSENT |\n",
       "| 3547 | News &amp; Politics | Gaming         |  921 | ABSENT | ABSENT |\n",
       "| 4132 | News &amp; Politics | Gaming         |  934 | ABSENT | ABSENT |\n",
       "| 5268 | News &amp; Politics | Gaming         |  893 | ABSENT | ABSENT |\n",
       "| 5270 | News &amp; Politics | Gaming         |  893 | ABSENT | ABSENT |\n",
       "| 5638 | News &amp; Politics | Gaming         |  900 | ABSENT | ABSENT |\n",
       "| 6448 | News &amp; Politics | Gaming         |  911 | ABSENT | ABSENT |\n",
       "| 6451 | News &amp; Politics | Gaming         |  923 | ABSENT | ABSENT |\n",
       "| 8340 | News &amp; Politics | Pets &amp; Animals | 2805 | ABSENT | ABSENT |\n",
       "| 9695 | News &amp; Politics | Gaming         |  923 | ABSENT | ABSENT |\n",
       "| 11491 | Comedy          | Gaming         |  923 | ABSENT | ABSENT |\n",
       "| 13371 | Entertainment   | Gaming         |  911 | ABSENT | ABSENT |\n",
       "| 13385 | News &amp; Politics | Gaming         |  894 | ABSENT | ABSENT |\n",
       "| 14321 | News &amp; Politics | Gaming         |  928 | ABSENT | ABSENT |\n",
       "| 14344 | News &amp; Politics | Gaming         |  908 | ABSENT | ABSENT |\n",
       "| 14346 | News &amp; Politics | Gaming         |  894 | ABSENT | ABSENT |\n",
       "| 15091 | News &amp; Politics | Gaming         |  928 | ABSENT | ABSENT |\n",
       "| 16059 | News &amp; Politics | Gaming         |  981 | ABSENT | ABSENT |\n",
       "| 17453 | News &amp; Politics | Gaming         | 1030 | ABSENT | ABSENT |\n",
       "| 17733 | Entertainment   | Gaming         | 1049 | ABSENT | ABSENT |\n",
       "| 18957 | People &amp; Blogs  | Gaming         |  910 | ABSENT | ABSENT |\n",
       "| 18994 | People &amp; Blogs  | Gaming         |  911 | ABSENT | ABSENT |\n",
       "| 30513 | Entertainment   | Pets &amp; Animals | 2566 | ABSENT | ABSENT |\n",
       "| 32042 | News &amp; Politics | Gaming         |  892 | ABSENT | ABSENT |\n",
       "| 32101 | News &amp; Politics | Gaming         |  925 | ABSENT | ABSENT |\n",
       "| 32117 | News &amp; Politics | Gaming         |  980 | ABSENT | ABSENT |\n",
       "| 32130 | News &amp; Politics | Gaming         |  904 | ABSENT | ABSENT |\n",
       "| 32274 | News &amp; Politics | Gaming         |  895 | ABSENT | ABSENT |\n",
       "| 32283 | News &amp; Politics | Gaming         |  912 | ABSENT | ABSENT |\n",
       "| ... | ... | ... | ... | ... | ... |\n",
       "| 54619 | People &amp; Blogs        | Gaming          |  891 | ABSENT | ABSENT |\n",
       "| 56703 | People &amp; Blogs        | Pets &amp; Animals  | 2767 | ABSENT | ABSENT |\n",
       "| 57675 | People &amp; Blogs        | Pets &amp; Animals  | 3748 | ABSENT | ABSENT |\n",
       "| 58046 | People &amp; Blogs        | Pets &amp; Animals  | 2777 | ABSENT | ABSENT |\n",
       "| 58064 | People &amp; Blogs        | Pets &amp; Animals  | 3165 | ABSENT | ABSENT |\n",
       "| 59530 | People &amp; Blogs        | Gaming          |  905 | ABSENT | ABSENT |\n",
       "| 59705 | People &amp; Blogs        | Gaming          | 1041 | ABSENT | ABSENT |\n",
       "| 60289 | Nonprofits &amp; Activism | Travel &amp; Events | 2397 | ABSENT | ABSENT |\n",
       "| 60293 | Entertainment         | Travel &amp; Events |  562 | ABSENT | ABSENT |\n",
       "| 60299 | News &amp; Politics       | Travel &amp; Events |  563 | ABSENT | ABSENT |\n",
       "| 60300 | News &amp; Politics       | Travel &amp; Events | 1169 | ABSENT | ABSENT |\n",
       "| 60301 | News &amp; Politics       | Travel &amp; Events |  729 | ABSENT | ABSENT |\n",
       "| 60304 | News &amp; Politics       | Travel &amp; Events | 2574 | ABSENT | ABSENT |\n",
       "| 60305 | News &amp; Politics       | Travel &amp; Events | 2155 | ABSENT | ABSENT |\n",
       "| 60309 | News &amp; Politics       | Travel &amp; Events | 1041 | ABSENT | ABSENT |\n",
       "| 60313 | News &amp; Politics       | Travel &amp; Events | 2083 | ABSENT | ABSENT |\n",
       "| 60314 | News &amp; Politics       | Travel &amp; Events |  785 | ABSENT | ABSENT |\n",
       "| 60316 | People &amp; Blogs        | Travel &amp; Events |  728 | ABSENT | ABSENT |\n",
       "| 60818 | Education             | Travel &amp; Events |  963 | ABSENT | ABSENT |\n",
       "| 60825 | News &amp; Politics       | Travel &amp; Events | 1284 | ABSENT | ABSENT |\n",
       "| 60828 | People &amp; Blogs        | Travel &amp; Events |  762 | ABSENT | ABSENT |\n",
       "| 60893 | News &amp; Politics       | Travel &amp; Events | 1348 | ABSENT | ABSENT |\n",
       "| 60894 | News &amp; Politics       | Travel &amp; Events | 1217 | ABSENT | ABSENT |\n",
       "| 60897 | News &amp; Politics       | Travel &amp; Events | 2040 | ABSENT | ABSENT |\n",
       "| 60900 | People &amp; Blogs        | Travel &amp; Events | 2386 | ABSENT | ABSENT |\n",
       "| 60905 | People &amp; Blogs        | Travel &amp; Events | 1405 | ABSENT | ABSENT |\n",
       "| 60910 | People &amp; Blogs        | Travel &amp; Events | 1315 | ABSENT | ABSENT |\n",
       "| 60915 | Film &amp; Animation      | Travel &amp; Events | 1797 | ABSENT | ABSENT |\n",
       "| 60916 | Comedy                | Travel &amp; Events |  454 | ABSENT | ABSENT |\n",
       "| 60931 | People &amp; Blogs        | Travel &amp; Events | 1035 | ABSENT | ABSENT |\n",
       "\n"
      ],
      "text/plain": [
       "      category_seed         category_recommended age_in_days twitter_graph\n",
       "34    News & Politics       Pets & Animals       3755        ABSENT       \n",
       "2766  News & Politics       Gaming                916        ABSENT       \n",
       "3547  News & Politics       Gaming                921        ABSENT       \n",
       "4132  News & Politics       Gaming                934        ABSENT       \n",
       "5268  News & Politics       Gaming                893        ABSENT       \n",
       "5270  News & Politics       Gaming                893        ABSENT       \n",
       "5638  News & Politics       Gaming                900        ABSENT       \n",
       "6448  News & Politics       Gaming                911        ABSENT       \n",
       "6451  News & Politics       Gaming                923        ABSENT       \n",
       "8340  News & Politics       Pets & Animals       2805        ABSENT       \n",
       "9695  News & Politics       Gaming                923        ABSENT       \n",
       "11491 Comedy                Gaming                923        ABSENT       \n",
       "13371 Entertainment         Gaming                911        ABSENT       \n",
       "13385 News & Politics       Gaming                894        ABSENT       \n",
       "14321 News & Politics       Gaming                928        ABSENT       \n",
       "14344 News & Politics       Gaming                908        ABSENT       \n",
       "14346 News & Politics       Gaming                894        ABSENT       \n",
       "15091 News & Politics       Gaming                928        ABSENT       \n",
       "16059 News & Politics       Gaming                981        ABSENT       \n",
       "17453 News & Politics       Gaming               1030        ABSENT       \n",
       "17733 Entertainment         Gaming               1049        ABSENT       \n",
       "18957 People & Blogs        Gaming                910        ABSENT       \n",
       "18994 People & Blogs        Gaming                911        ABSENT       \n",
       "30513 Entertainment         Pets & Animals       2566        ABSENT       \n",
       "32042 News & Politics       Gaming                892        ABSENT       \n",
       "32101 News & Politics       Gaming                925        ABSENT       \n",
       "32117 News & Politics       Gaming                980        ABSENT       \n",
       "32130 News & Politics       Gaming                904        ABSENT       \n",
       "32274 News & Politics       Gaming                895        ABSENT       \n",
       "32283 News & Politics       Gaming                912        ABSENT       \n",
       "...   ...                   ...                  ...         ...          \n",
       "54619 People & Blogs        Gaming                891        ABSENT       \n",
       "56703 People & Blogs        Pets & Animals       2767        ABSENT       \n",
       "57675 People & Blogs        Pets & Animals       3748        ABSENT       \n",
       "58046 People & Blogs        Pets & Animals       2777        ABSENT       \n",
       "58064 People & Blogs        Pets & Animals       3165        ABSENT       \n",
       "59530 People & Blogs        Gaming                905        ABSENT       \n",
       "59705 People & Blogs        Gaming               1041        ABSENT       \n",
       "60289 Nonprofits & Activism Travel & Events      2397        ABSENT       \n",
       "60293 Entertainment         Travel & Events       562        ABSENT       \n",
       "60299 News & Politics       Travel & Events       563        ABSENT       \n",
       "60300 News & Politics       Travel & Events      1169        ABSENT       \n",
       "60301 News & Politics       Travel & Events       729        ABSENT       \n",
       "60304 News & Politics       Travel & Events      2574        ABSENT       \n",
       "60305 News & Politics       Travel & Events      2155        ABSENT       \n",
       "60309 News & Politics       Travel & Events      1041        ABSENT       \n",
       "60313 News & Politics       Travel & Events      2083        ABSENT       \n",
       "60314 News & Politics       Travel & Events       785        ABSENT       \n",
       "60316 People & Blogs        Travel & Events       728        ABSENT       \n",
       "60818 Education             Travel & Events       963        ABSENT       \n",
       "60825 News & Politics       Travel & Events      1284        ABSENT       \n",
       "60828 People & Blogs        Travel & Events       762        ABSENT       \n",
       "60893 News & Politics       Travel & Events      1348        ABSENT       \n",
       "60894 News & Politics       Travel & Events      1217        ABSENT       \n",
       "60897 News & Politics       Travel & Events      2040        ABSENT       \n",
       "60900 People & Blogs        Travel & Events      2386        ABSENT       \n",
       "60905 People & Blogs        Travel & Events      1405        ABSENT       \n",
       "60910 People & Blogs        Travel & Events      1315        ABSENT       \n",
       "60915 Film & Animation      Travel & Events      1797        ABSENT       \n",
       "60916 Comedy                Travel & Events       454        ABSENT       \n",
       "60931 People & Blogs        Travel & Events      1035        ABSENT       \n",
       "      predicted\n",
       "34    ABSENT   \n",
       "2766  ABSENT   \n",
       "3547  ABSENT   \n",
       "4132  ABSENT   \n",
       "5268  ABSENT   \n",
       "5270  ABSENT   \n",
       "5638  ABSENT   \n",
       "6448  ABSENT   \n",
       "6451  ABSENT   \n",
       "8340  ABSENT   \n",
       "9695  ABSENT   \n",
       "11491 ABSENT   \n",
       "13371 ABSENT   \n",
       "13385 ABSENT   \n",
       "14321 ABSENT   \n",
       "14344 ABSENT   \n",
       "14346 ABSENT   \n",
       "15091 ABSENT   \n",
       "16059 ABSENT   \n",
       "17453 ABSENT   \n",
       "17733 ABSENT   \n",
       "18957 ABSENT   \n",
       "18994 ABSENT   \n",
       "30513 ABSENT   \n",
       "32042 ABSENT   \n",
       "32101 ABSENT   \n",
       "32117 ABSENT   \n",
       "32130 ABSENT   \n",
       "32274 ABSENT   \n",
       "32283 ABSENT   \n",
       "...   ...      \n",
       "54619 ABSENT   \n",
       "56703 ABSENT   \n",
       "57675 ABSENT   \n",
       "58046 ABSENT   \n",
       "58064 ABSENT   \n",
       "59530 ABSENT   \n",
       "59705 ABSENT   \n",
       "60289 ABSENT   \n",
       "60293 ABSENT   \n",
       "60299 ABSENT   \n",
       "60300 ABSENT   \n",
       "60301 ABSENT   \n",
       "60304 ABSENT   \n",
       "60305 ABSENT   \n",
       "60309 ABSENT   \n",
       "60313 ABSENT   \n",
       "60314 ABSENT   \n",
       "60316 ABSENT   \n",
       "60818 ABSENT   \n",
       "60825 ABSENT   \n",
       "60828 ABSENT   \n",
       "60893 ABSENT   \n",
       "60894 ABSENT   \n",
       "60897 ABSENT   \n",
       "60900 ABSENT   \n",
       "60905 ABSENT   \n",
       "60910 ABSENT   \n",
       "60915 ABSENT   \n",
       "60916 ABSENT   \n",
       "60931 ABSENT   "
      ]
     },
     "metadata": {},
     "output_type": "display_data"
    }
   ],
   "source": [
    "recommendation_aux = recommendation[train, ]\n",
    "recommendation_aux[glm.probabilities < 0.0000000000000003, c('category_seed', 'category_recommended', 'age_in_days', 'twitter_graph', 'predicted')]"
   ]
  },
  {
   "cell_type": "markdown",
   "metadata": {},
   "source": [
    "There is no need to worry about the warning. The model is correctly predicting that old videos from non-political categories are certainly ABSENT in the Twitter graph. `Pets & Animals` is mentioned here but all the recommendations are very old."
   ]
  },
  {
   "cell_type": "markdown",
   "metadata": {},
   "source": [
    "**The interaction of `age_in_days` and `category_recommended` increased the accuracy of the model.**"
   ]
  },
  {
   "cell_type": "markdown",
   "metadata": {},
   "source": [
    "**Does political leaning of seed video matter? Do right-wing seed videos tend to be followed by UNKNOWN recommendations? What about left-wing seed videos?**"
   ]
  },
  {
   "cell_type": "code",
   "execution_count": 158,
   "metadata": {},
   "outputs": [
    {
     "data": {
      "text/plain": [
       "\n",
       "Call:\n",
       "glm(formula = twitter_graph ~ seed_political_leaning, family = binomial, \n",
       "    data = recommendation[train, ])\n",
       "\n",
       "Deviance Residuals: \n",
       "    Min       1Q   Median       3Q      Max  \n",
       "-1.8964   0.6017   0.6873   0.6873   0.6873  \n",
       "\n",
       "Coefficients:\n",
       "                            Estimate Std. Error z value Pr(>|z|)    \n",
       "(Intercept)                  1.61719    0.02461   65.72   <2e-16 ***\n",
       "seed_political_leaningRIGHT -0.29459    0.02831  -10.41   <2e-16 ***\n",
       "---\n",
       "Signif. codes:  0 '***' 0.001 '**' 0.01 '*' 0.05 '.' 0.1 ' ' 1\n",
       "\n",
       "(Dispersion parameter for binomial family taken to be 1)\n",
       "\n",
       "    Null deviance: 42502  on 42722  degrees of freedom\n",
       "Residual deviance: 42390  on 42721  degrees of freedom\n",
       "AIC: 42394\n",
       "\n",
       "Number of Fisher Scoring iterations: 4\n"
      ]
     },
     "metadata": {},
     "output_type": "display_data"
    }
   ],
   "source": [
    "glm.model <- glm(twitter_graph~seed_political_leaning, data=recommendation[train,], family=binomial)\n",
    "summary(glm.model)"
   ]
  },
  {
   "cell_type": "code",
   "execution_count": 189,
   "metadata": {},
   "outputs": [
    {
     "data": {
      "text/plain": [
       "         \n",
       "          PRESENT\n",
       "  ABSENT     8453\n",
       "  PRESENT   34270"
      ]
     },
     "metadata": {},
     "output_type": "display_data"
    },
    {
     "data": {
      "text/plain": [
       "         \n",
       "          PRESENT\n",
       "  ABSENT    0.198\n",
       "  PRESENT   0.802"
      ]
     },
     "metadata": {},
     "output_type": "display_data"
    },
    {
     "name": "stdout",
     "output_type": "stream",
     "text": [
      "[1] \"Accuracy:\"\n"
     ]
    },
    {
     "data": {
      "text/html": [
       "0.197855955808347"
      ],
      "text/latex": [
       "0.197855955808347"
      ],
      "text/markdown": [
       "0.197855955808347"
      ],
      "text/plain": [
       "[1] 0.197856"
      ]
     },
     "metadata": {},
     "output_type": "display_data"
    }
   ],
   "source": [
    "glm.probabilities <- predict(glm.model, recommendation[train,], type=\"response\")\n",
    "recommendation[train, 'predicted'] <- ifelse(glm.probabilities < 0.5,\n",
    "                                             levels(recommendation$twitter_graph)[1],\n",
    "                                             levels(recommendation$twitter_graph)[2])\n",
    "classification.table <- table(recommendation[train, 'twitter_graph'], recommendation[train,'predicted'])\n",
    "classification.table\n",
    "round(classification.table/nrow(recommendation[train,]),3)\n",
    "print('Accuracy:')\n",
    "sum(diag(classification.table))/sum(classification.table)"
   ]
  },
  {
   "cell_type": "code",
   "execution_count": 180,
   "metadata": {},
   "outputs": [
    {
     "data": {
      "text/html": [
       "0.789613934745827"
      ],
      "text/latex": [
       "0.789613934745827"
      ],
      "text/markdown": [
       "0.789613934745827"
      ],
      "text/plain": [
       "[1] 0.7896139"
      ]
     },
     "metadata": {},
     "output_type": "display_data"
    }
   ],
   "source": [
    "min(glm.probabilities)"
   ]
  },
  {
   "cell_type": "code",
   "execution_count": 181,
   "metadata": {},
   "outputs": [
    {
     "data": {
      "text/html": [
       "0.834407162580589"
      ],
      "text/latex": [
       "0.834407162580589"
      ],
      "text/markdown": [
       "0.834407162580589"
      ],
      "text/plain": [
       "[1] 0.8344072"
      ]
     },
     "metadata": {},
     "output_type": "display_data"
    }
   ],
   "source": [
    "max(glm.probabilities)"
   ]
  },
  {
   "cell_type": "markdown",
   "metadata": {},
   "source": [
    "Interestingly, the probability of being PRESENT is very close to 80%.\n",
    "\n",
    "**This seems to be a case in which [a significant variable is also a useless predictor](https://towardsdatascience.com/why-models-with-significant-variables-can-be-useless-predictors-3354722a4c05). There is also a very interesting discussion on this topic [in this thread](https://stats.stackexchange.com/questions/1194/practical-thoughts-on-explanatory-vs-predictive-modeling).**"
   ]
  },
  {
   "cell_type": "markdown",
   "metadata": {},
   "source": [
    "**One can hypothesize that the lower its rank (closer to 1), the likelier a YouTube channel is present in the Twitter graph. Let's see if that's the case.**"
   ]
  },
  {
   "cell_type": "code",
   "execution_count": 251,
   "metadata": {},
   "outputs": [
    {
     "data": {
      "text/plain": [
       "\n",
       "Call:\n",
       "glm(formula = twitter_graph ~ rank, family = binomial, data = recommendation[train, \n",
       "    ])\n",
       "\n",
       "Deviance Residuals: \n",
       "    Min       1Q   Median       3Q      Max  \n",
       "-1.8172   0.6527   0.6602   0.6677   0.6754  \n",
       "\n",
       "Coefficients:\n",
       "            Estimate Std. Error z value Pr(>|z|)    \n",
       "(Intercept) 1.353521   0.026091  51.877   <2e-16 ***\n",
       "rank        0.008454   0.004239   1.994   0.0461 *  \n",
       "---\n",
       "Signif. codes:  0 '***' 0.001 '**' 0.01 '*' 0.05 '.' 0.1 ' ' 1\n",
       "\n",
       "(Dispersion parameter for binomial family taken to be 1)\n",
       "\n",
       "    Null deviance: 42502  on 42722  degrees of freedom\n",
       "Residual deviance: 42498  on 42721  degrees of freedom\n",
       "AIC: 42502\n",
       "\n",
       "Number of Fisher Scoring iterations: 4\n"
      ]
     },
     "metadata": {},
     "output_type": "display_data"
    }
   ],
   "source": [
    "glm.model <- glm(twitter_graph~rank, data=recommendation[train,], family=binomial)\n",
    "summary(glm.model)"
   ]
  },
  {
   "cell_type": "markdown",
   "metadata": {},
   "source": [
    "**The significance seems to be week (p=0.0461). And it goes in the wrong direction: the higher its rank, the likelier a YouTube channel is present in the Twitter graph.**"
   ]
  }
 ],
 "metadata": {
  "kernelspec": {
   "display_name": "R",
   "language": "R",
   "name": "ir"
  },
  "language_info": {
   "codemirror_mode": "r",
   "file_extension": ".r",
   "mimetype": "text/x-r-source",
   "name": "R",
   "pygments_lexer": "r",
   "version": "4.0.2"
  }
 },
 "nbformat": 4,
 "nbformat_minor": 4
}
