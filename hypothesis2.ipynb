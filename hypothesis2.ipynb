{
 "cells": [
  {
   "cell_type": "markdown",
   "metadata": {},
   "source": [
    "# Question\n",
    "What are the odds of seeing a recommendation that ideologically diverges from the video being currently watched?\n",
    "# Hypothesis\n",
    "YouTube keeps people in the same ideological bubble most of the time.\n",
    "# Test"
   ]
  },
  {
   "cell_type": "markdown",
   "metadata": {},
   "source": [
    "Retrieve data from database"
   ]
  },
  {
   "cell_type": "code",
   "execution_count": 2,
   "metadata": {},
   "outputs": [
    {
     "data": {
      "text/html": [
       "61400"
      ],
      "text/latex": [
       "61400"
      ],
      "text/markdown": [
       "61400"
      ],
      "text/plain": [
       "[1] 61400"
      ]
     },
     "metadata": {},
     "output_type": "display_data"
    }
   ],
   "source": [
    "library(RSQLite)\n",
    "con <- dbConnect(drv=RSQLite::SQLite(), dbname=\".//youtube_recommendations.sqlite\")\n",
    "recommendation <- dbGetQuery(conn=con, statement=\"SELECT * FROM recommendation\")\n",
    "dbDisconnect(conn=con)\n",
    "nrow(recommendation)"
   ]
  },
  {
   "cell_type": "markdown",
   "metadata": {},
   "source": [
    "Remove rows where channel_id is NA/NULL"
   ]
  },
  {
   "cell_type": "code",
   "execution_count": 3,
   "metadata": {},
   "outputs": [
    {
     "data": {
      "text/html": [
       "61295"
      ],
      "text/latex": [
       "61295"
      ],
      "text/markdown": [
       "61295"
      ],
      "text/plain": [
       "[1] 61295"
      ]
     },
     "metadata": {},
     "output_type": "display_data"
    }
   ],
   "source": [
    "recommendation <- recommendation[complete.cases(recommendation[, c('seed_channel_id','recommended_channel_id')]), ]\n",
    "nrow(recommendation)"
   ]
  },
  {
   "cell_type": "markdown",
   "metadata": {},
   "source": [
    "Remove rows where political_leaning is NA/NULL (both for seed and recommended videos)"
   ]
  },
  {
   "cell_type": "code",
   "execution_count": 4,
   "metadata": {},
   "outputs": [
    {
     "data": {
      "text/html": [
       "48982"
      ],
      "text/latex": [
       "48982"
      ],
      "text/markdown": [
       "48982"
      ],
      "text/plain": [
       "[1] 48982"
      ]
     },
     "metadata": {},
     "output_type": "display_data"
    }
   ],
   "source": [
    "recommendation <- recommendation[complete.cases(recommendation[, c('seed_political_leaning', 'recommended_political_leaning')]), ]\n",
    "nrow(recommendation)"
   ]
  },
  {
   "cell_type": "markdown",
   "metadata": {},
   "source": [
    "Convert `char` columns to `factor`"
   ]
  },
  {
   "cell_type": "code",
   "execution_count": 5,
   "metadata": {},
   "outputs": [],
   "source": [
    "recommendation[['seed_political_leaning']] = as.factor(recommendation[['seed_political_leaning']])\n",
    "recommendation[['recommended_political_leaning']] = as.factor(recommendation[['recommended_political_leaning']])"
   ]
  },
  {
   "cell_type": "code",
   "execution_count": 16,
   "metadata": {},
   "outputs": [
    {
     "data": {
      "text/plain": [
       "\n",
       " LEFT RIGHT \n",
       "12123 36859 "
      ]
     },
     "metadata": {},
     "output_type": "display_data"
    },
    {
     "data": {
      "text/plain": [
       "\n",
       "     LEFT     RIGHT \n",
       "0.2474991 0.7525009 "
      ]
     },
     "metadata": {},
     "output_type": "display_data"
    },
    {
     "data": {
      "text/plain": [
       "       \n",
       "         LEFT RIGHT\n",
       "  LEFT   9600  4587\n",
       "  RIGHT  2523 32272"
      ]
     },
     "metadata": {},
     "output_type": "display_data"
    }
   ],
   "source": [
    "table(recommendation$recommended_political_leaning)\n",
    "table(recommendation$recommended_political_leaning)/nrow(recommendation)\n",
    "table(recommendation$seed_political_leaning, recommendation$recommended_political_leaning)"
   ]
  },
  {
   "cell_type": "markdown",
   "metadata": {},
   "source": [
    "**The lazy hypothesis (all videos are right-wing) would have an accuracy of 75% in this dataset.**"
   ]
  },
  {
   "cell_type": "markdown",
   "metadata": {},
   "source": [
    "Create train and test sets"
   ]
  },
  {
   "cell_type": "code",
   "execution_count": 9,
   "metadata": {},
   "outputs": [],
   "source": [
    "set.seed(2)\n",
    "train <- rep(TRUE, nrow(recommendation))\n",
    "train[sample.int(length(train), 0.3*nrow(recommendation))] <- FALSE\n",
    "test <- (!train)"
   ]
  },
  {
   "cell_type": "code",
   "execution_count": 11,
   "metadata": {},
   "outputs": [
    {
     "data": {
      "text/html": [
       "<table>\n",
       "<caption>A matrix: 2 × 1 of type dbl</caption>\n",
       "<thead>\n",
       "\t<tr><th></th><th scope=col>RIGHT</th></tr>\n",
       "</thead>\n",
       "<tbody>\n",
       "\t<tr><th scope=row>LEFT</th><td>0</td></tr>\n",
       "\t<tr><th scope=row>RIGHT</th><td>1</td></tr>\n",
       "</tbody>\n",
       "</table>\n"
      ],
      "text/latex": [
       "A matrix: 2 × 1 of type dbl\n",
       "\\begin{tabular}{r|l}\n",
       "  & RIGHT\\\\\n",
       "\\hline\n",
       "\tLEFT & 0\\\\\n",
       "\tRIGHT & 1\\\\\n",
       "\\end{tabular}\n"
      ],
      "text/markdown": [
       "\n",
       "A matrix: 2 × 1 of type dbl\n",
       "\n",
       "| <!--/--> | RIGHT |\n",
       "|---|---|\n",
       "| LEFT | 0 |\n",
       "| RIGHT | 1 |\n",
       "\n"
      ],
      "text/plain": [
       "      RIGHT\n",
       "LEFT  0    \n",
       "RIGHT 1    "
      ]
     },
     "metadata": {},
     "output_type": "display_data"
    }
   ],
   "source": [
    "contrasts(recommendation$recommended_political_leaning)"
   ]
  },
  {
   "cell_type": "markdown",
   "metadata": {},
   "source": [
    "## recommended_political_leaning ~ seed_political_leaning"
   ]
  },
  {
   "cell_type": "markdown",
   "metadata": {},
   "source": [
    "I am running this logistic regression without the intercept but the results are the same with and without the intercept (the only thing that changes is the coding of `seed_political_leaning`)."
   ]
  },
  {
   "cell_type": "code",
   "execution_count": 22,
   "metadata": {},
   "outputs": [
    {
     "data": {
      "text/plain": [
       "\n",
       "Call:\n",
       "glm(formula = recommended_political_leaning ~ seed_political_leaning - \n",
       "    1, family = binomial, data = recommendation[train, ])\n",
       "\n",
       "Deviance Residuals: \n",
       "    Min       1Q   Median       3Q      Max  \n",
       "-2.2951   0.3861   0.3861   0.3861   1.4964  \n",
       "\n",
       "Coefficients:\n",
       "                            Estimate Std. Error z value Pr(>|z|)    \n",
       "seed_political_leaningLEFT  -0.72442    0.02140  -33.85   <2e-16 ***\n",
       "seed_political_leaningRIGHT  2.55922    0.02482  103.11   <2e-16 ***\n",
       "---\n",
       "Signif. codes:  0 '***' 0.001 '**' 0.01 '*' 0.05 '.' 0.1 ' ' 1\n",
       "\n",
       "(Dispersion parameter for binomial family taken to be 1)\n",
       "\n",
       "    Null deviance: 47533  on 34288  degrees of freedom\n",
       "Residual deviance: 25128  on 34286  degrees of freedom\n",
       "AIC: 25132\n",
       "\n",
       "Number of Fisher Scoring iterations: 5\n"
      ]
     },
     "metadata": {},
     "output_type": "display_data"
    }
   ],
   "source": [
    "glm.model <- glm(recommended_political_leaning~seed_political_leaning-1, data=recommendation[train,], family=binomial)\n",
    "summary(glm.model)"
   ]
  },
  {
   "cell_type": "markdown",
   "metadata": {},
   "source": [
    "**Training set**"
   ]
  },
  {
   "cell_type": "code",
   "execution_count": 23,
   "metadata": {},
   "outputs": [
    {
     "data": {
      "text/plain": [
       "       \n",
       "         LEFT RIGHT\n",
       "  LEFT   6690  1749\n",
       "  RIGHT  3242 22607"
      ]
     },
     "metadata": {},
     "output_type": "display_data"
    },
    {
     "data": {
      "text/plain": [
       "       \n",
       "         LEFT RIGHT\n",
       "  LEFT  0.195 0.051\n",
       "  RIGHT 0.095 0.659"
      ]
     },
     "metadata": {},
     "output_type": "display_data"
    },
    {
     "name": "stdout",
     "output_type": "stream",
     "text": [
      "[1] \"Accuracy:\"\n"
     ]
    },
    {
     "data": {
      "text/html": [
       "0.854438870741951"
      ],
      "text/latex": [
       "0.854438870741951"
      ],
      "text/markdown": [
       "0.854438870741951"
      ],
      "text/plain": [
       "[1] 0.8544389"
      ]
     },
     "metadata": {},
     "output_type": "display_data"
    }
   ],
   "source": [
    "glm.probabilities <- predict(glm.model, recommendation[train,], type=\"response\")\n",
    "recommendation[train, 'predicted'] <- ifelse(glm.probabilities < .5,\n",
    "                                             levels(recommendation$recommended_political_leaning)[1],\n",
    "                                             levels(recommendation$recommended_political_leaning)[2])\n",
    "classification.table <- table(recommendation[train, 'recommended_political_leaning'], recommendation[train,'predicted'])\n",
    "classification.table\n",
    "round(classification.table/nrow(recommendation[train,]),3)\n",
    "print('Accuracy:')\n",
    "sum(diag(classification.table))/sum(classification.table)"
   ]
  },
  {
   "cell_type": "markdown",
   "metadata": {},
   "source": [
    "**Test set**"
   ]
  },
  {
   "cell_type": "code",
   "execution_count": 24,
   "metadata": {},
   "outputs": [
    {
     "data": {
      "text/plain": [
       "       \n",
       "        LEFT RIGHT\n",
       "  LEFT  2910   774\n",
       "  RIGHT 1345  9665"
      ]
     },
     "metadata": {},
     "output_type": "display_data"
    },
    {
     "data": {
      "text/plain": [
       "       \n",
       "         LEFT RIGHT\n",
       "  LEFT  0.198 0.053\n",
       "  RIGHT 0.092 0.658"
      ]
     },
     "metadata": {},
     "output_type": "display_data"
    },
    {
     "name": "stdout",
     "output_type": "stream",
     "text": [
      "[1] \"Accuracy:\"\n"
     ]
    },
    {
     "data": {
      "text/html": [
       "0.855791479515448"
      ],
      "text/latex": [
       "0.855791479515448"
      ],
      "text/markdown": [
       "0.855791479515448"
      ],
      "text/plain": [
       "[1] 0.8557915"
      ]
     },
     "metadata": {},
     "output_type": "display_data"
    }
   ],
   "source": [
    "glm.probabilities <- predict(glm.model, recommendation[test,], type=\"response\")\n",
    "recommendation[test, 'predicted'] <- ifelse(glm.probabilities < .5,\n",
    "                                            levels(recommendation$recommended_political_leaning)[1],\n",
    "                                            levels(recommendation$recommended_political_leaning)[2])\n",
    "classification.table <- table(recommendation[test, 'recommended_political_leaning'], recommendation[test,'predicted'])\n",
    "classification.table\n",
    "round(classification.table/nrow(recommendation[test,]),3)\n",
    "print('Accuracy:')\n",
    "sum(diag(classification.table))/sum(classification.table)"
   ]
  },
  {
   "cell_type": "markdown",
   "metadata": {},
   "source": [
    "**We can reject the null hypothesis for the main question posed in this notebook: there is an unmistakable tendency of staying in the same ideological confines when YouTube recommends a video.**"
   ]
  },
  {
   "cell_type": "markdown",
   "metadata": {},
   "source": [
    "Another interesting question: **is rank important in determining the ideological leaning of a video?**"
   ]
  },
  {
   "cell_type": "markdown",
   "metadata": {},
   "source": [
    "Let's first test with just the first recommendation."
   ]
  },
  {
   "cell_type": "code",
   "execution_count": 46,
   "metadata": {},
   "outputs": [
    {
     "data": {
      "text/html": [
       "5143"
      ],
      "text/latex": [
       "5143"
      ],
      "text/markdown": [
       "5143"
      ],
      "text/plain": [
       "[1] 5143"
      ]
     },
     "metadata": {},
     "output_type": "display_data"
    }
   ],
   "source": [
    "recommendation_1 <- recommendation[recommendation$rank == 1, ]\n",
    "nrow(recommendation_1)"
   ]
  },
  {
   "cell_type": "code",
   "execution_count": 47,
   "metadata": {},
   "outputs": [],
   "source": [
    "set.seed(2)\n",
    "train_1 <- rep(TRUE, nrow(recommendation_1))\n",
    "train_1[sample.int(length(train_1), 0.3*nrow(recommendation_1))] <- FALSE\n",
    "test_1 <- (!train_1)"
   ]
  },
  {
   "cell_type": "code",
   "execution_count": 48,
   "metadata": {},
   "outputs": [
    {
     "data": {
      "text/plain": [
       "\n",
       "Call:\n",
       "glm(formula = recommended_political_leaning ~ seed_political_leaning - \n",
       "    1, family = binomial, data = recommendation_1[train_1, ])\n",
       "\n",
       "Deviance Residuals: \n",
       "    Min       1Q   Median       3Q      Max  \n",
       "-2.5536   0.2797   0.2797   0.2797   1.5161  \n",
       "\n",
       "Coefficients:\n",
       "                            Estimate Std. Error z value Pr(>|z|)    \n",
       "seed_political_leaningLEFT  -0.76820    0.06562  -11.71   <2e-16 ***\n",
       "seed_political_leaningRIGHT  3.22135    0.10354   31.11   <2e-16 ***\n",
       "---\n",
       "Signif. codes:  0 '***' 0.001 '**' 0.01 '*' 0.05 '.' 0.1 ' ' 1\n",
       "\n",
       "(Dispersion parameter for binomial family taken to be 1)\n",
       "\n",
       "    Null deviance: 4992.0  on 3601  degrees of freedom\n",
       "Residual deviance: 2162.9  on 3599  degrees of freedom\n",
       "AIC: 2166.9\n",
       "\n",
       "Number of Fisher Scoring iterations: 6\n"
      ]
     },
     "metadata": {},
     "output_type": "display_data"
    }
   ],
   "source": [
    "glm.model <- glm(recommended_political_leaning~seed_political_leaning-1, data=recommendation_1[train_1,], family=binomial)\n",
    "summary(glm.model)"
   ]
  },
  {
   "cell_type": "code",
   "execution_count": 49,
   "metadata": {},
   "outputs": [
    {
     "data": {
      "text/plain": [
       "       \n",
       "        LEFT RIGHT\n",
       "  LEFT   733    97\n",
       "  RIGHT  340  2431"
      ]
     },
     "metadata": {},
     "output_type": "display_data"
    },
    {
     "data": {
      "text/plain": [
       "       \n",
       "         LEFT RIGHT\n",
       "  LEFT  0.204 0.027\n",
       "  RIGHT 0.094 0.675"
      ]
     },
     "metadata": {},
     "output_type": "display_data"
    },
    {
     "name": "stdout",
     "output_type": "stream",
     "text": [
      "[1] \"Accuracy:\"\n"
     ]
    },
    {
     "data": {
      "text/html": [
       "0.878644820883088"
      ],
      "text/latex": [
       "0.878644820883088"
      ],
      "text/markdown": [
       "0.878644820883088"
      ],
      "text/plain": [
       "[1] 0.8786448"
      ]
     },
     "metadata": {},
     "output_type": "display_data"
    }
   ],
   "source": [
    "glm.probabilities <- predict(glm.model, recommendation_1[train_1,], type=\"response\")\n",
    "recommendation_1[train_1, 'predicted'] <- ifelse(glm.probabilities < .5,\n",
    "                                                 levels(recommendation_1$recommended_political_leaning)[1],\n",
    "                                                 levels(recommendation_1$recommended_political_leaning)[2])\n",
    "classification.table <- table(recommendation_1[train_1, 'recommended_political_leaning'], recommendation_1[train_1,'predicted'])\n",
    "classification.table\n",
    "round(classification.table/nrow(recommendation_1[train_1,]),3)\n",
    "print('Accuracy:')\n",
    "sum(diag(classification.table))/sum(classification.table)"
   ]
  },
  {
   "cell_type": "code",
   "execution_count": 50,
   "metadata": {},
   "outputs": [
    {
     "data": {
      "text/plain": [
       "       \n",
       "        LEFT RIGHT\n",
       "  LEFT   319    49\n",
       "  RIGHT  119  1055"
      ]
     },
     "metadata": {},
     "output_type": "display_data"
    },
    {
     "data": {
      "text/plain": [
       "       \n",
       "         LEFT RIGHT\n",
       "  LEFT  0.207 0.032\n",
       "  RIGHT 0.077 0.684"
      ]
     },
     "metadata": {},
     "output_type": "display_data"
    },
    {
     "name": "stdout",
     "output_type": "stream",
     "text": [
      "[1] \"Accuracy:\"\n"
     ]
    },
    {
     "data": {
      "text/html": [
       "0.891050583657588"
      ],
      "text/latex": [
       "0.891050583657588"
      ],
      "text/markdown": [
       "0.891050583657588"
      ],
      "text/plain": [
       "[1] 0.8910506"
      ]
     },
     "metadata": {},
     "output_type": "display_data"
    }
   ],
   "source": [
    "glm.probabilities <- predict(glm.model, recommendation_1[test_1,], type=\"response\")\n",
    "recommendation_1[test_1, 'predicted'] <- ifelse(glm.probabilities < .5,\n",
    "                                                 levels(recommendation_1$recommended_political_leaning)[1],\n",
    "                                                 levels(recommendation_1$recommended_political_leaning)[2])\n",
    "classification.table <- table(recommendation_1[test_1, 'recommended_political_leaning'], recommendation_1[test_1,'predicted'])\n",
    "classification.table\n",
    "round(classification.table/nrow(recommendation_1[test_1,]),3)\n",
    "print('Accuracy:')\n",
    "sum(diag(classification.table))/sum(classification.table)"
   ]
  },
  {
   "cell_type": "markdown",
   "metadata": {},
   "source": [
    "Now with the first three recommendations."
   ]
  },
  {
   "cell_type": "code",
   "execution_count": 45,
   "metadata": {},
   "outputs": [
    {
     "data": {
      "text/html": [
       "14741"
      ],
      "text/latex": [
       "14741"
      ],
      "text/markdown": [
       "14741"
      ],
      "text/plain": [
       "[1] 14741"
      ]
     },
     "metadata": {},
     "output_type": "display_data"
    }
   ],
   "source": [
    "recommendation_123 <- recommendation[recommendation$rank %in% 1:3, ]\n",
    "nrow(recommendation_123)"
   ]
  },
  {
   "cell_type": "code",
   "execution_count": 51,
   "metadata": {},
   "outputs": [],
   "source": [
    "set.seed(2)\n",
    "train_123 <- rep(TRUE, nrow(recommendation_123))\n",
    "train_123[sample.int(length(train_123), 0.3*nrow(recommendation_123))] <- FALSE\n",
    "test_123 <- (!train_123)"
   ]
  },
  {
   "cell_type": "code",
   "execution_count": 52,
   "metadata": {},
   "outputs": [
    {
     "data": {
      "text/plain": [
       "\n",
       "Call:\n",
       "glm(formula = recommended_political_leaning ~ seed_political_leaning - \n",
       "    1, family = binomial, data = recommendation_123[train_123, \n",
       "    ])\n",
       "\n",
       "Deviance Residuals: \n",
       "    Min       1Q   Median       3Q      Max  \n",
       "-2.3764   0.3499   0.3499   0.3499   1.5294  \n",
       "\n",
       "Coefficients:\n",
       "                            Estimate Std. Error z value Pr(>|z|)    \n",
       "seed_political_leaningLEFT  -0.79765    0.03939  -20.25   <2e-16 ***\n",
       "seed_political_leaningRIGHT  2.76246    0.04949   55.81   <2e-16 ***\n",
       "---\n",
       "Signif. codes:  0 '***' 0.001 '**' 0.01 '*' 0.05 '.' 0.1 ' ' 1\n",
       "\n",
       "(Dispersion parameter for binomial family taken to be 1)\n",
       "\n",
       "    Null deviance: 14305.2  on 10319  degrees of freedom\n",
       "Residual deviance:  7023.4  on 10317  degrees of freedom\n",
       "AIC: 7027.4\n",
       "\n",
       "Number of Fisher Scoring iterations: 5\n"
      ]
     },
     "metadata": {},
     "output_type": "display_data"
    }
   ],
   "source": [
    "glm.model <- glm(recommended_political_leaning~seed_political_leaning-1, data=recommendation_123[train_123,], family=binomial)\n",
    "summary(glm.model)"
   ]
  },
  {
   "cell_type": "code",
   "execution_count": 53,
   "metadata": {},
   "outputs": [
    {
     "data": {
      "text/plain": [
       "       \n",
       "        LEFT RIGHT\n",
       "  LEFT  2076   434\n",
       "  RIGHT  935  6874"
      ]
     },
     "metadata": {},
     "output_type": "display_data"
    },
    {
     "data": {
      "text/plain": [
       "       \n",
       "         LEFT RIGHT\n",
       "  LEFT  0.201 0.042\n",
       "  RIGHT 0.091 0.666"
      ]
     },
     "metadata": {},
     "output_type": "display_data"
    },
    {
     "name": "stdout",
     "output_type": "stream",
     "text": [
      "[1] \"Accuracy:\"\n"
     ]
    },
    {
     "data": {
      "text/html": [
       "0.867332105824208"
      ],
      "text/latex": [
       "0.867332105824208"
      ],
      "text/markdown": [
       "0.867332105824208"
      ],
      "text/plain": [
       "[1] 0.8673321"
      ]
     },
     "metadata": {},
     "output_type": "display_data"
    }
   ],
   "source": [
    "glm.probabilities <- predict(glm.model, recommendation_123[train_123,], type=\"response\")\n",
    "recommendation_123[train_123, 'predicted'] <- ifelse(glm.probabilities < .5,\n",
    "                                                 levels(recommendation_123$recommended_political_leaning)[1],\n",
    "                                                 levels(recommendation_123$recommended_political_leaning)[2])\n",
    "classification.table <- table(recommendation_123[train_123, 'recommended_political_leaning'], recommendation_123[train_123,'predicted'])\n",
    "classification.table\n",
    "round(classification.table/nrow(recommendation_123[train_123,]),3)\n",
    "print('Accuracy:')\n",
    "sum(diag(classification.table))/sum(classification.table)"
   ]
  },
  {
   "cell_type": "code",
   "execution_count": 54,
   "metadata": {},
   "outputs": [
    {
     "data": {
      "text/plain": [
       "       \n",
       "        LEFT RIGHT\n",
       "  LEFT   913   166\n",
       "  RIGHT  411  2932"
      ]
     },
     "metadata": {},
     "output_type": "display_data"
    },
    {
     "data": {
      "text/plain": [
       "       \n",
       "         LEFT RIGHT\n",
       "  LEFT  0.206 0.038\n",
       "  RIGHT 0.093 0.663"
      ]
     },
     "metadata": {},
     "output_type": "display_data"
    },
    {
     "name": "stdout",
     "output_type": "stream",
     "text": [
      "[1] \"Accuracy:\"\n"
     ]
    },
    {
     "data": {
      "text/html": [
       "0.86951605608322"
      ],
      "text/latex": [
       "0.86951605608322"
      ],
      "text/markdown": [
       "0.86951605608322"
      ],
      "text/plain": [
       "[1] 0.8695161"
      ]
     },
     "metadata": {},
     "output_type": "display_data"
    }
   ],
   "source": [
    "glm.probabilities <- predict(glm.model, recommendation_123[test_123,], type=\"response\")\n",
    "recommendation_123[test_123, 'predicted'] <- ifelse(glm.probabilities < .5,\n",
    "                                                 levels(recommendation_123$recommended_political_leaning)[1],\n",
    "                                                 levels(recommendation_123$recommended_political_leaning)[2])\n",
    "classification.table <- table(recommendation_123[test_123, 'recommended_political_leaning'], recommendation_123[test_123,'predicted'])\n",
    "classification.table\n",
    "round(classification.table/nrow(recommendation_123[test_123,]),3)\n",
    "print('Accuracy:')\n",
    "sum(diag(classification.table))/sum(classification.table)"
   ]
  },
  {
   "cell_type": "markdown",
   "metadata": {},
   "source": [
    "**The results confirm that recommendations are more polarized at the top of the recommendation line-up.**"
   ]
  },
  {
   "cell_type": "markdown",
   "metadata": {},
   "source": [
    "Another question must be posed: maybe the accuracy can be explained by same-channel recommendations: YouTube would favor recommendations from the same channel that, by definition, belong to the same ideological camp. Let's see if the same bias remains for recommendations from different channels."
   ]
  },
  {
   "cell_type": "code",
   "execution_count": 55,
   "metadata": {},
   "outputs": [
    {
     "data": {
      "text/html": [
       "35551"
      ],
      "text/latex": [
       "35551"
      ],
      "text/markdown": [
       "35551"
      ],
      "text/plain": [
       "[1] 35551"
      ]
     },
     "metadata": {},
     "output_type": "display_data"
    }
   ],
   "source": [
    "recommendation_different_channels = recommendation[recommendation$seed_channel_id != recommendation$recommended_channel_id, ]\n",
    "nrow(recommendation_different_channels)"
   ]
  },
  {
   "cell_type": "code",
   "execution_count": 63,
   "metadata": {},
   "outputs": [],
   "source": [
    "set.seed(2)\n",
    "train_different_channels <- rep(TRUE, nrow(recommendation_different_channels))\n",
    "train_different_channels[sample.int(length(train_different_channels), 0.3*nrow(recommendation_different_channels))] <- FALSE\n",
    "test_different_channels <- (!train_different_channels)"
   ]
  },
  {
   "cell_type": "code",
   "execution_count": 67,
   "metadata": {},
   "outputs": [
    {
     "data": {
      "text/plain": [
       "\n",
       "Call:\n",
       "glm(formula = recommended_political_leaning ~ seed_political_leaning, \n",
       "    family = binomial, data = recommendation_different_channels[train_different_channels, \n",
       "        ])\n",
       "\n",
       "Deviance Residuals: \n",
       "    Min       1Q   Median       3Q      Max  \n",
       "-2.1600   0.4518   0.4518   0.4518   1.2094  \n",
       "\n",
       "Coefficients:\n",
       "                            Estimate Std. Error z value Pr(>|z|)    \n",
       "(Intercept)                 -0.07505    0.02437   -3.08  0.00207 ** \n",
       "seed_political_leaningRIGHT  2.30586    0.03497   65.94  < 2e-16 ***\n",
       "---\n",
       "Signif. codes:  0 '***' 0.001 '**' 0.01 '*' 0.05 '.' 0.1 ' ' 1\n",
       "\n",
       "(Dispersion parameter for binomial family taken to be 1)\n",
       "\n",
       "    Null deviance: 25668  on 24885  degrees of freedom\n",
       "Residual deviance: 20896  on 24884  degrees of freedom\n",
       "AIC: 20900\n",
       "\n",
       "Number of Fisher Scoring iterations: 4\n"
      ]
     },
     "metadata": {},
     "output_type": "display_data"
    }
   ],
   "source": [
    "glm.model <- glm(recommended_political_leaning~seed_political_leaning, data=recommendation_different_channels[train_different_channels,], family=binomial)\n",
    "summary(glm.model)"
   ]
  },
  {
   "cell_type": "code",
   "execution_count": 68,
   "metadata": {},
   "outputs": [
    {
     "data": {
      "text/plain": [
       "       \n",
       "         LEFT RIGHT\n",
       "  LEFT   3499  1760\n",
       "  RIGHT  3246 16381"
      ]
     },
     "metadata": {},
     "output_type": "display_data"
    },
    {
     "data": {
      "text/plain": [
       "       \n",
       "         LEFT RIGHT\n",
       "  LEFT  0.141 0.071\n",
       "  RIGHT 0.130 0.658"
      ]
     },
     "metadata": {},
     "output_type": "display_data"
    },
    {
     "name": "stdout",
     "output_type": "stream",
     "text": [
      "[1] \"Accuracy:\"\n"
     ]
    },
    {
     "data": {
      "text/html": [
       "0.798842722816041"
      ],
      "text/latex": [
       "0.798842722816041"
      ],
      "text/markdown": [
       "0.798842722816041"
      ],
      "text/plain": [
       "[1] 0.7988427"
      ]
     },
     "metadata": {},
     "output_type": "display_data"
    }
   ],
   "source": [
    "glm.probabilities <- predict(glm.model, recommendation_different_channels[train_different_channels,], type=\"response\")\n",
    "recommendation_different_channels[train_different_channels, 'predicted'] <- ifelse(glm.probabilities < .5,\n",
    "                                                 levels(recommendation_different_channels$recommended_political_leaning)[1],\n",
    "                                                 levels(recommendation_different_channels$recommended_political_leaning)[2])\n",
    "classification.table <- table(recommendation_different_channels[train_different_channels, 'recommended_political_leaning'], recommendation_different_channels[train_different_channels,'predicted'])\n",
    "classification.table\n",
    "round(classification.table/nrow(recommendation_different_channels[train_different_channels,]),3)\n",
    "print('Accuracy:')\n",
    "sum(diag(classification.table))/sum(classification.table)"
   ]
  },
  {
   "cell_type": "code",
   "execution_count": 69,
   "metadata": {},
   "outputs": [
    {
     "data": {
      "text/plain": [
       "       \n",
       "        LEFT RIGHT\n",
       "  LEFT  1422   763\n",
       "  RIGHT 1341  7139"
      ]
     },
     "metadata": {},
     "output_type": "display_data"
    },
    {
     "data": {
      "text/plain": [
       "       \n",
       "         LEFT RIGHT\n",
       "  LEFT  0.133 0.072\n",
       "  RIGHT 0.126 0.669"
      ]
     },
     "metadata": {},
     "output_type": "display_data"
    },
    {
     "name": "stdout",
     "output_type": "stream",
     "text": [
      "[1] \"Accuracy:\"\n"
     ]
    },
    {
     "data": {
      "text/html": [
       "0.802719174871074"
      ],
      "text/latex": [
       "0.802719174871074"
      ],
      "text/markdown": [
       "0.802719174871074"
      ],
      "text/plain": [
       "[1] 0.8027192"
      ]
     },
     "metadata": {},
     "output_type": "display_data"
    }
   ],
   "source": [
    "glm.probabilities <- predict(glm.model, recommendation_different_channels[test_different_channels,], type=\"response\")\n",
    "recommendation_different_channels[test_different_channels, 'predicted'] <- ifelse(glm.probabilities < .5,\n",
    "                                                 levels(recommendation_different_channels$recommended_political_leaning)[1],\n",
    "                                                 levels(recommendation_different_channels$recommended_political_leaning)[2])\n",
    "classification.table <- table(recommendation_different_channels[test_different_channels, 'recommended_political_leaning'], recommendation_different_channels[test_different_channels,'predicted'])\n",
    "classification.table\n",
    "round(classification.table/nrow(recommendation_different_channels[test_different_channels,]),3)\n",
    "print('Accuracy:')\n",
    "sum(diag(classification.table))/sum(classification.table)"
   ]
  }
 ],
 "metadata": {
  "kernelspec": {
   "display_name": "R",
   "language": "R",
   "name": "ir"
  },
  "language_info": {
   "codemirror_mode": "r",
   "file_extension": ".r",
   "mimetype": "text/x-r-source",
   "name": "R",
   "pygments_lexer": "r",
   "version": "4.0.2"
  }
 },
 "nbformat": 4,
 "nbformat_minor": 4
}
